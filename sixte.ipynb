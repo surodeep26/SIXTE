{
 "cells": [
  {
   "cell_type": "code",
   "execution_count": 4,
   "metadata": {},
   "outputs": [
    {
     "name": "stdout",
     "output_type": "stream",
     "text": [
      "\n",
      "========================================================================\n",
      "Model TBabs<1>*bbody<2> Source No.: 1   Active/Off\n",
      "Model Model Component  Parameter  Unit     Value\n",
      " par  comp\n",
      "   1    1   TBabs      nH         10^22    1.00000      +/-  0.0          \n",
      "   2    2   bbody      kT         keV      3.00000      +/-  0.0          \n",
      "   3    2   bbody      norm                1.00000      +/-  0.0          \n",
      "________________________________________________________________________\n",
      "\n",
      "\n",
      "1 spectrum  in use\n",
      " \n",
      "Spectral Data File: rxj1856_1k/spectrum_rxj1856_1k.pha  Spectrum 1\n",
      "Net count rate (cts/s) for Spectrum:1  1.465e+01 +/- 1.210e-01\n",
      " Assigned to Data Group 1 and Plot Group 1\n",
      "  Noticed Channels:  1-1024\n",
      "  Telescope: eROSITA Instrument: TM1  Channel Type: PI\n",
      "  Exposure Time: 1000 sec\n",
      " Using fit statistic: chi\n",
      " Using Response (RMF) File            /home/suro/SIXTE/installation/share/sixte/instruments/srg/erosita/erosita_pirmf_v20210719.rmf for Source 1\n",
      " Using Auxiliary Response (ARF) File  /home/suro/SIXTE/installation/share/sixte/instruments/srg/erosita/tm1_arf_filter_000101v02.fits\n",
      "\n",
      "\n",
      "Fit statistic  : Chi-Squared              9.551991e+07     using 1024 bins.\n",
      "\n",
      "***Warning: Chi-square may not be valid due to bins with zero variance\n",
      "            in spectrum number: 1\n",
      "\n",
      "Test statistic : Chi-Squared              9.551991e+07     using 1024 bins.\n",
      "\n",
      "***Warning: Chi-square may not be valid due to bins with zero variance\n",
      "            in spectrum number(s): 1 \n",
      "\n",
      " Null hypothesis probability of 0.000000e+00 with 1021 degrees of freedom\n",
      " Current data and model not fit yet.\n"
     ]
    }
   ],
   "source": [
    "from xspec import *\n",
    "m = Model(\"tbabs*bbody\")\n",
    "s = Spectrum(\"rxj1856_1k/spectrum_rxj1856_1k.pha\")"
   ]
  },
  {
   "cell_type": "code",
   "execution_count": 5,
   "metadata": {},
   "outputs": [],
   "source": [
    "Xset.save(fileName='current')"
   ]
  },
  {
   "cell_type": "code",
   "execution_count": null,
   "metadata": {},
   "outputs": [],
   "source": [
    "Xset.restore()"
   ]
  }
 ],
 "metadata": {
  "kernelspec": {
   "display_name": "Python 3",
   "language": "python",
   "name": "python3"
  },
  "language_info": {
   "codemirror_mode": {
    "name": "ipython",
    "version": 3
   },
   "file_extension": ".py",
   "mimetype": "text/x-python",
   "name": "python",
   "nbconvert_exporter": "python",
   "pygments_lexer": "ipython3",
   "version": "3.12.3"
  }
 },
 "nbformat": 4,
 "nbformat_minor": 2
}
