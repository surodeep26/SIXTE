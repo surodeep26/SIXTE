{
 "cells": [
  {
   "cell_type": "code",
   "execution_count": 1,
   "metadata": {},
   "outputs": [
    {
     "name": "stdout",
     "output_type": "stream",
     "text": [
      " Solar Abundance Vector set to wilm:  Wilms, J., Allen, A. & McCray, R. ApJ 542 914 (2000) (abundances are set to zero for those elements not included in the paper).\n",
      "tbvabs Version 2.3\n",
      "Cosmic absorption with grains and H2, modified from\n",
      "Wilms, Allen, & McCray, 2000, ApJ 542, 914-924\n",
      "Questions: Joern Wilms\n",
      "joern.wilms@sternwarte.uni-erlangen.de\n",
      "joern.wilms@fau.de\n",
      "\n",
      "http://pulsar.sternwarte.uni-erlangen.de/wilms/research/tbabs/\n",
      "\n",
      "PLEASE NOTICE:\n",
      "To get the model described by the above paper\n",
      "you will also have to set the abundances:\n",
      "   abund wilm\n",
      "\n",
      "Note that this routine ignores the current cross section setting\n",
      "as it always HAS to use the Verner cross sections as a baseline.\n",
      "Reading APEC data from 3.0.9\n",
      "\n",
      "\n",
      "========================================================================\n",
      "Model TBabs<1>(bbody<2> + apec<3>) Source No.: 1   Active/Off\n",
      "Model Model Component  Parameter  Unit     Value\n",
      " par  comp\n",
      "   1    1   TBabs      nH         10^22    1.00000      +/-  0.0          \n",
      "   2    2   bbody      kT         keV      3.00000      +/-  0.0          \n",
      "   3    2   bbody      norm                1.00000      +/-  0.0          \n",
      "   4    3   apec       kT         keV      1.00000      +/-  0.0          \n",
      "   5    3   apec       Abundanc            1.00000      frozen\n",
      "   6    3   apec       Redshift            0.0          frozen\n",
      "   7    3   apec       norm                1.00000      +/-  0.0          \n",
      "________________________________________________________________________\n",
      "\n"
     ]
    }
   ],
   "source": [
    "from xspec import *\n",
    "from xspecfunctions.model_functions import *\n",
    "AllData.clear()\n",
    "Xset.abund = \"wilm\"\n",
    "# s = Spectrum(\"rxj1856_1k/spectrum_rxj1856_1k.pha\")\n",
    "m = Model(\"tbabs*(bbody+apec)\")\n"
   ]
  },
  {
   "cell_type": "code",
   "execution_count": 29,
   "metadata": {},
   "outputs": [
    {
     "name": "stdout",
     "output_type": "stream",
     "text": [
      "    20 channels (1-20) ignored in spectrum #     1\n",
      "   903 channels (122-1024) ignored in spectrum #     1\n",
      "\n",
      "Fit statistic  : Chi-Squared                13321.99     using 101 bins.\n",
      "\n",
      "Test statistic : Chi-Squared                13321.99     using 101 bins.\n",
      " Null hypothesis probability of 0.00e+00 with 99 degrees of freedom\n",
      " Current data and model not fit yet.\n",
      "\n"
     ]
    }
   ],
   "source": [
    "s.ignore(\"**-0.2 0.8-**\")"
   ]
  },
  {
   "cell_type": "code",
   "execution_count": 2,
   "metadata": {},
   "outputs": [],
   "source": [
    "save_model(m)"
   ]
  },
  {
   "cell_type": "code",
   "execution_count": 30,
   "metadata": {},
   "outputs": [
    {
     "name": "stdout",
     "output_type": "stream",
     "text": [
      "                                   Parameters\n",
      "Chi-Squared  |beta|/N    Lvl          1:nH        3:norm\n",
      "603.031      15870.4      -2    0.00168435   2.01526e+06\n",
      "419.683      26941.7      -3    0.00115651   2.09362e+06\n",
      "403.235      23249.9      -4    0.00104138   2.09770e+06\n",
      "399.394      22850.4      -5    0.00101330   2.09861e+06\n",
      "398.434      22754.8      -6    0.00100632   2.09884e+06\n",
      "397.986      18499.4      -7    0.00100204   2.09888e+06\n",
      "397.828      13666.8      -8    0.00100059   2.09890e+06\n",
      "397.782      12025.4      -9    0.00100018   2.09890e+06\n",
      "397.77       11558.6     -10    0.00100007   2.09891e+06\n",
      "397.765      11437.1     -11    0.00100002   2.09891e+06\n",
      "==============================\n",
      " Variances and Principal Axes\n",
      "                 1        3  \n",
      " 6.1876E-07|  1.0000  -0.0000  \n",
      " 1.3360E+09|  0.0000   1.0000  \n",
      "------------------------------\n",
      "\n",
      "========================\n",
      "  Covariance Matrix\n",
      "        1           2   \n",
      "   1.873e-06   4.094e+01\n",
      "   4.094e+01   1.336e+09\n",
      "------------------------\n",
      "\n",
      "========================================================================\n",
      "Model TBabs<1>*bbodyrad<2> Source No.: 1   Active/On\n",
      "Model Model Component  Parameter  Unit     Value\n",
      " par  comp\n",
      "   1    1   TBabs      nH         10^22    1.00002E-03  +/-  1.36859E-03  \n",
      "   2    2   bbodyrad   kT         keV      6.00000E-02  frozen\n",
      "   3    2   bbodyrad   norm                2.09891E+06  +/-  3.65508E+04  \n",
      "________________________________________________________________________\n",
      "\n",
      "\n",
      "Fit statistic  : Chi-Squared                  397.76     using 101 bins.\n",
      "\n",
      "Test statistic : Chi-Squared                  397.76     using 101 bins.\n",
      " Null hypothesis probability of 1.95e-37 with 99 degrees of freedom\n"
     ]
    }
   ],
   "source": [
    "Fit.query = \"yes\"\n",
    "Fit.perform()\n",
    "Plot.xAxis =\"keV\"\n",
    "Plot.device = \"/xs\"\n",
    "Plot(\"ldata ratio\")"
   ]
  }
 ],
 "metadata": {
  "kernelspec": {
   "display_name": "Python 3",
   "language": "python",
   "name": "python3"
  },
  "language_info": {
   "codemirror_mode": {
    "name": "ipython",
    "version": 3
   },
   "file_extension": ".py",
   "mimetype": "text/x-python",
   "name": "python",
   "nbconvert_exporter": "python",
   "pygments_lexer": "ipython3",
   "version": "3.12.3"
  }
 },
 "nbformat": 4,
 "nbformat_minor": 2
}
