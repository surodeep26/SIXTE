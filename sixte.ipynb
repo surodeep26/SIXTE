{
 "cells": [
  {
   "cell_type": "code",
   "execution_count": 28,
   "metadata": {},
   "outputs": [
    {
     "name": "stdout",
     "output_type": "stream",
     "text": [
      " Solar Abundance Vector set to wilm:  Wilms, J., Allen, A. & McCray, R. ApJ 542 914 (2000) (abundances are set to zero for those elements not included in the paper).\n",
      "\n",
      "1 spectrum  in use\n",
      " \n",
      "Spectral Data File: rxj1856_1k/spectrum_rxj1856_1k.pha  Spectrum 1\n",
      "Net count rate (cts/s) for Spectrum:1  1.465e+01 +/- 1.210e-01\n",
      " Assigned to Data Group 1 and Plot Group 1\n",
      "  Noticed Channels:  1-1024\n",
      "  Telescope: eROSITA Instrument: TM1  Channel Type: PI\n",
      "  Exposure Time: 1000 sec\n",
      " Using fit statistic: chi\n",
      " Using Response (RMF) File            /home/suro/SIXTE/installation/share/sixte/instruments/srg/erosita/erosita_pirmf_v20210719.rmf for Source 1\n",
      " Using Auxiliary Response (ARF) File  /home/suro/SIXTE/installation/share/sixte/instruments/srg/erosita/tm1_arf_filter_000101v02.fits\n",
      "\n",
      "\n",
      "Fit statistic  : Chi-Squared                  531.46     using 1024 bins.\n",
      "\n",
      "***Warning: Chi-square may not be valid due to bins with zero variance\n",
      "            in spectrum number: 1\n",
      "\n",
      "Test statistic : Chi-Squared                  531.46     using 1024 bins.\n",
      "\n",
      "***Warning: Chi-square may not be valid due to bins with zero variance\n",
      "            in spectrum number(s): 1 \n",
      "\n",
      " Null hypothesis probability of 1.00e+00 with 1022 degrees of freedom\n",
      " Current data and model not fit yet.\n",
      "\n",
      "========================================================================\n",
      "Model TBabs<1>*bbodyrad<2> Source No.: 1   Active/On\n",
      "Model Model Component  Parameter  Unit     Value\n",
      " par  comp\n",
      "   1    1   TBabs      nH         10^22    5.00000E-03  +/-  0.0          \n",
      "   2    2   bbodyrad   kT         keV      6.00000E-02  +/-  0.0          \n",
      "   3    2   bbodyrad   norm                1.00000      +/-  0.0          \n",
      "________________________________________________________________________\n",
      "\n",
      "\n",
      "Fit statistic  : Chi-Squared                14645.99     using 1024 bins.\n",
      "\n",
      "***Warning: Chi-square may not be valid due to bins with zero variance\n",
      "            in spectrum number: 1\n",
      "\n",
      "Test statistic : Chi-Squared                14645.99     using 1024 bins.\n",
      "\n",
      "***Warning: Chi-square may not be valid due to bins with zero variance\n",
      "            in spectrum number(s): 1 \n",
      "\n",
      " Null hypothesis probability of 0.00e+00 with 1021 degrees of freedom\n",
      " Current data and model not fit yet.\n",
      "\n",
      "Fit statistic  : Chi-Squared                14645.99     using 1024 bins.\n",
      "\n",
      "***Warning: Chi-square may not be valid due to bins with zero variance\n",
      "            in spectrum number: 1\n",
      "\n",
      "Test statistic : Chi-Squared                14645.99     using 1024 bins.\n",
      "\n",
      "***Warning: Chi-square may not be valid due to bins with zero variance\n",
      "            in spectrum number(s): 1 \n",
      "\n",
      " Null hypothesis probability of 0.00e+00 with 1021 degrees of freedom\n",
      " Current data and model not fit yet.\n",
      "\n",
      "Fit statistic  : Chi-Squared                14645.99     using 1024 bins.\n",
      "\n",
      "***Warning: Chi-square may not be valid due to bins with zero variance\n",
      "            in spectrum number: 1\n",
      "\n",
      "Test statistic : Chi-Squared                14645.99     using 1024 bins.\n",
      "\n",
      "***Warning: Chi-square may not be valid due to bins with zero variance\n",
      "            in spectrum number(s): 1 \n",
      "\n",
      " Null hypothesis probability of 0.00e+00 with 1022 degrees of freedom\n",
      " Current data and model not fit yet.\n"
     ]
    }
   ],
   "source": [
    "from xspec import *\n",
    "from xspecfunctions.model_functions import *\n",
    "AllData.clear()\n",
    "Xset.abund = \"wilm\"\n",
    "s = Spectrum(\"rxj1856_1k/spectrum_rxj1856_1k.pha\")\n",
    "m = Model(\"tbabs*bbodyrad\", setPars=[0.005,60e-3,1])\n",
    "m.TBabs.nH.values = [0.01, 0.001, 1e-3, 1e-3, 1, 1]\n",
    "m.bbodyrad.kT.frozen = 1\n"
   ]
  },
  {
   "cell_type": "code",
   "execution_count": 29,
   "metadata": {},
   "outputs": [
    {
     "name": "stdout",
     "output_type": "stream",
     "text": [
      "    20 channels (1-20) ignored in spectrum #     1\n",
      "   903 channels (122-1024) ignored in spectrum #     1\n",
      "\n",
      "Fit statistic  : Chi-Squared                13321.99     using 101 bins.\n",
      "\n",
      "Test statistic : Chi-Squared                13321.99     using 101 bins.\n",
      " Null hypothesis probability of 0.00e+00 with 99 degrees of freedom\n",
      " Current data and model not fit yet.\n",
      "\n"
     ]
    }
   ],
   "source": [
    "s.ignore(\"**-0.2 0.8-**\")"
   ]
  },
  {
   "cell_type": "code",
   "execution_count": 30,
   "metadata": {},
   "outputs": [
    {
     "name": "stdout",
     "output_type": "stream",
     "text": [
      "                                   Parameters\n",
      "Chi-Squared  |beta|/N    Lvl          1:nH        3:norm\n",
      "603.031      15870.4      -2    0.00168435   2.01526e+06\n",
      "419.683      26941.7      -3    0.00115651   2.09362e+06\n",
      "403.235      23249.9      -4    0.00104138   2.09770e+06\n",
      "399.394      22850.4      -5    0.00101330   2.09861e+06\n",
      "398.434      22754.8      -6    0.00100632   2.09884e+06\n",
      "397.986      18499.4      -7    0.00100204   2.09888e+06\n",
      "397.828      13666.8      -8    0.00100059   2.09890e+06\n",
      "397.782      12025.4      -9    0.00100018   2.09890e+06\n",
      "397.77       11558.6     -10    0.00100007   2.09891e+06\n",
      "397.765      11437.1     -11    0.00100002   2.09891e+06\n",
      "==============================\n",
      " Variances and Principal Axes\n",
      "                 1        3  \n",
      " 6.1876E-07|  1.0000  -0.0000  \n",
      " 1.3360E+09|  0.0000   1.0000  \n",
      "------------------------------\n",
      "\n",
      "========================\n",
      "  Covariance Matrix\n",
      "        1           2   \n",
      "   1.873e-06   4.094e+01\n",
      "   4.094e+01   1.336e+09\n",
      "------------------------\n",
      "\n",
      "========================================================================\n",
      "Model TBabs<1>*bbodyrad<2> Source No.: 1   Active/On\n",
      "Model Model Component  Parameter  Unit     Value\n",
      " par  comp\n",
      "   1    1   TBabs      nH         10^22    1.00002E-03  +/-  1.36859E-03  \n",
      "   2    2   bbodyrad   kT         keV      6.00000E-02  frozen\n",
      "   3    2   bbodyrad   norm                2.09891E+06  +/-  3.65508E+04  \n",
      "________________________________________________________________________\n",
      "\n",
      "\n",
      "Fit statistic  : Chi-Squared                  397.76     using 101 bins.\n",
      "\n",
      "Test statistic : Chi-Squared                  397.76     using 101 bins.\n",
      " Null hypothesis probability of 1.95e-37 with 99 degrees of freedom\n"
     ]
    }
   ],
   "source": [
    "Fit.query = \"yes\"\n",
    "Fit.perform()\n",
    "Plot.xAxis =\"keV\"\n",
    "Plot.device = \"/xs\"\n",
    "Plot(\"ldata ratio\")"
   ]
  }
 ],
 "metadata": {
  "kernelspec": {
   "display_name": "Python 3",
   "language": "python",
   "name": "python3"
  },
  "language_info": {
   "codemirror_mode": {
    "name": "ipython",
    "version": 3
   },
   "file_extension": ".py",
   "mimetype": "text/x-python",
   "name": "python",
   "nbconvert_exporter": "python",
   "pygments_lexer": "ipython3",
   "version": "3.12.3"
  }
 },
 "nbformat": 4,
 "nbformat_minor": 2
}
