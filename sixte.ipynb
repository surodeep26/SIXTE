{
 "cells": [
  {
   "cell_type": "code",
   "execution_count": 21,
   "metadata": {},
   "outputs": [
    {
     "name": "stdout",
     "output_type": "stream",
     "text": [
      "Initialize Heasoft\n",
      "Done\n"
     ]
    }
   ],
   "source": [
    "!. run_sixte.sh\n",
    "from xspec import *\n",
    "import os"
   ]
  },
  {
   "cell_type": "code",
   "execution_count": 15,
   "metadata": {},
   "outputs": [],
   "source": [
    "import os\n",
    "import subprocess\n",
    "from utils import create_model, SIMPUT\n",
    "from xspec import *\n",
    "\n",
    "class Simulation:\n",
    "    def __init__(self, name, model_string=\"tbabs*bbodyrad\"):\n",
    "        self.name = name\n",
    "        self.model_string = model_string\n",
    "        if not os.path.exists(self.name):\n",
    "            os.makedirs(os.path.join(self.name, 'products'))\n",
    "        create_model(self, modelstring=self.model_string, save=f\"{self.name}/Model_{model_string.replace(\"*\",\"_\")}\")\n",
    "        self.model_file = f\"{self.name}/Model_{model_string.replace(\"*\",\"_\")}\"\n",
    "        self.SIMPUT = SIMPUT(XSPECFile=self.model_file,\n",
    "                             Simput=f\"{self.name}/SIMPUT_{self.name}\")\n",
    "        self.SIMPUT.generate()\n",
    "\n",
    "s = Simulation('rxj')"
   ]
  },
  {
   "cell_type": "code",
   "execution_count": 16,
   "metadata": {},
   "outputs": [
    {
     "name": "stdout",
     "output_type": "stream",
     "text": [
      "WARNING: overwriting model\n",
      "Unable to redirect prompts to the /dev/tty (at /home/suro/SIXTE/simput-2.6.3/extlib/heaio/headas_stdio.c:152)\n",
      "Error creating SIMPUT file: Command '['/home/suro/SIXTE/installation/bin/simputfile', 'Simput=rxj/SIMPUT_rxj', 'Src_Name=None', 'RA=0', 'Dec=0', 'srcFlux=2e-11', 'Elow=0.1', 'Eup=10', 'NBins=1000', 'logEgrid=yes', 'Emin=0.2', 'Emax=2', 'XSPECFile=rxj/Model_tbabs_bbodyrad']' returned non-zero exit status 6.\n"
     ]
    },
    {
     "name": "stderr",
     "output_type": "stream",
     "text": [
      "ERROR: No such device or address\n",
      "Task simputfile 0.0 terminating with status 6\n"
     ]
    }
   ],
   "source": []
  }
 ],
 "metadata": {
  "kernelspec": {
   "display_name": "Python 3",
   "language": "python",
   "name": "python3"
  },
  "language_info": {
   "codemirror_mode": {
    "name": "ipython",
    "version": 3
   },
   "file_extension": ".py",
   "mimetype": "text/x-python",
   "name": "python",
   "nbconvert_exporter": "python",
   "pygments_lexer": "ipython3",
   "version": "3.12.3"
  }
 },
 "nbformat": 4,
 "nbformat_minor": 2
}
