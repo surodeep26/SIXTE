{
 "cells": [
  {
   "cell_type": "code",
   "execution_count": 9,
   "metadata": {},
   "outputs": [
    {
     "name": "stdout",
     "output_type": "stream",
     "text": [
      "Initialize Heasoft\n",
      "Done\n"
     ]
    }
   ],
   "source": [
    "!. run_sixte.sh\n",
    "from xspec import *\n",
    "import os"
   ]
  },
  {
   "cell_type": "markdown",
   "metadata": {},
   "source": [
    "model  TBabs*bbodyrad\n",
    "        value       delta           min     bot     top         max\n",
    "          0.004      0.001          0          0     100000      1e+06\n",
    "           0.06       0.01     0.0001      0.001        100        200\n",
    "              1       0.01          0          0      1e+20      1e+24"
   ]
  },
  {
   "cell_type": "code",
   "execution_count": null,
   "metadata": {},
   "outputs": [],
   "source": [
    "class myModel:\n",
    "    def __init__(self,modelstring):\n",
    "        pass"
   ]
  },
  {
   "cell_type": "code",
   "execution_count": 26,
   "metadata": {},
   "outputs": [
    {
     "name": "stdout",
     "output_type": "stream",
     "text": [
      "\n",
      "========================================================================\n",
      "Model TBabs<1>*bbodyrad<2> Source No.: 1   Active/Off\n",
      "Model Model Component  Parameter  Unit     Value\n",
      " par  comp\n",
      "   1    1   TBabs      nH         10^22    4.00000E-03  +/-  0.0          \n",
      "   2    2   bbodyrad   kT         keV      6.00000E-02  +/-  0.0          \n",
      "   3    2   bbodyrad   norm                1.00000      +/-  0.0          \n",
      "________________________________________________________________________\n",
      "\n"
     ]
    }
   ],
   "source": [
    "def create_model(modelstring:str, setPars:dict,frozen=None, save=None):\n",
    "    \"\"\"\n",
    "    Example:\n",
    "    ```python\n",
    "    m = create_model(\"TBabs*(bbodyrad)\", \n",
    "                 setPars={1: 4e-3,\n",
    "                          2: 60e-3},\n",
    "                          save=True)\n",
    "    ```                        \n",
    "    Args:\n",
    "        modelstring (str): `xspec` model name \n",
    "        setPars (dict): set the parameters in dict format\n",
    "        save (_type_, optional): Name of the file name of the model. If True, saves the modelstring as file name. Defaults to None.\n",
    "\n",
    "    Returns:\n",
    "        m: Model\n",
    "    \"\"\"\n",
    "    Xset.chatter = 0\n",
    "    Xset.abund = 'wilm'\n",
    "    m = Model(modelstring, setPars=setPars)\n",
    "    if (type(save)==str) and (save!=modelstring):\n",
    "        if os.path.exists(f'{save}.xcm'):\n",
    "            print('WARNING: overwriting model')\n",
    "            os.remove(f'{save}.xcm')\n",
    "        Xset.save(fileName=save, info='m')\n",
    "    elif save:\n",
    "        if os.path.exists(f'{modelstring}.xcm'):\n",
    "            print('WARNING: overwriting model')\n",
    "            os.remove(f'{modelstring}.xcm')\n",
    "        Xset.save(fileName=modelstring, info='m')\n",
    "    Xset.chatter = 10 \n",
    "    return m\n",
    "\n",
    "m = create_model(\"TBabs*(bbodyrad)\", \n",
    "                 setPars={1:4e-3,2:60e-3},\n",
    "                          save='mymodel')\n",
    "m.show()"
   ]
  },
  {
   "cell_type": "code",
   "execution_count": 43,
   "metadata": {},
   "outputs": [
    {
     "name": "stdout",
     "output_type": "stream",
     "text": [
      "/home/suro/SIXTE/installation\n"
     ]
    }
   ],
   "source": [
    "!echo $SIXTE"
   ]
  },
  {
   "cell_type": "code",
   "execution_count": 4,
   "metadata": {},
   "outputs": [
    {
     "name": "stdout",
     "output_type": "stream",
     "text": [
      "Error creating SIMPUT file: Command '['/home/suro/SIXTE/installation/bin/simputfile', 'Simput=file.fits', 'Src_Name=rxj1856', 'RA=0', 'Dec=0', 'srcFlux=2e-11', 'Elow=0.1', 'Eup=10', 'NBins=1000', 'logEgrid=yes', 'Emin=0.2', 'Emax=2', 'XSPECFile=mymodel.xcm']' returned non-zero exit status 127.\n"
     ]
    },
    {
     "name": "stderr",
     "output_type": "stream",
     "text": [
      "/home/suro/SIXTE/installation/bin/simputfile: Simput=file.fits: No such file or directory\n"
     ]
    }
   ],
   "source": [
    "from astropy import units as u\n",
    "import subprocess\n",
    "class SIMPUT: \n",
    "    def __init__(self, XSPECFile, Simput, \n",
    "                 sixte_path='/home/suro/SIXTE/installation',\n",
    "                 Src_Name=None, \n",
    "                 ra=0, \n",
    "                 dec=0, \n",
    "                 srcFlux=2e-11,\n",
    "                 Elow=0.1,\n",
    "                 Eup=10,\n",
    "                 Nbins=1000,\n",
    "                 logEgrid=\"yes\",\n",
    "                 Emin=0.2,\n",
    "                 Emax=2):\n",
    "        # required\n",
    "        self.XSPECFile = XSPECFile # input model\n",
    "        self.Simput = Simput #output SIMPUT file\n",
    "        \n",
    "        # optional default\n",
    "        self.sixte_path = sixte_path\n",
    "        self.Src_Name = Src_Name\n",
    "        self.ra = ra\n",
    "        self.dec = dec\n",
    "        self.srcFlux = srcFlux\n",
    "        self.Elow = Elow\n",
    "        self.Eup = Eup\n",
    "        self.Nbins = Nbins\n",
    "        self.logEgrid = logEgrid\n",
    "        self.Emin = Emin\n",
    "        self.Emax = Emax\n",
    "    \n",
    "    def generate(self):\n",
    "        simputfile_cmd = [\n",
    "            f\"{self.sixte_path}/bin/simputfile\",\n",
    "            f\"Simput={self.Simput}\",\n",
    "            f\"Src_Name={self.Src_Name}\",\n",
    "            f\"RA={self.ra}\",\n",
    "            f\"Dec={self.dec}\",\n",
    "            f\"srcFlux={self.srcFlux}\",\n",
    "            f\"Elow={self.Elow}\",\n",
    "            f\"Eup={self.Eup}\",\n",
    "            f\"NBins={self.Nbins}\",\n",
    "            f\"logEgrid={self.logEgrid}\",\n",
    "            f\"Emin={self.Emin}\",\n",
    "            f\"Emax={self.Emax}\",\n",
    "            f\"XSPECFile={self.XSPECFile}\",\n",
    "        ]\n",
    "        try:\n",
    "            subprocess.run(simputfile_cmd, check=True, executable=\"/bin/bash\")\n",
    "            print(f\"SIMPUT file '{self.Simput}' successfully created.\")\n",
    "        except subprocess.CalledProcessError as e:\n",
    "            print(f\"Error creating SIMPUT file: {e}\")\n",
    "        except FileNotFoundError:\n",
    "            print(f\"Error: `simputfile` command not found in {self.sixte_path}.\")\n",
    "\n",
    "    \n",
    "s = SIMPUT(XSPECFile=\"mymodel.xcm\", Simput=\"file.fits\", Src_Name='rxj1856')\n",
    "s.generate()"
   ]
  },
  {
   "cell_type": "code",
   "execution_count": 20,
   "metadata": {},
   "outputs": [
    {
     "name": "stdout",
     "output_type": "stream",
     "text": [
      "Error creating SIMPUT file: Command '['/home/suro/SIXTE/installation/bin/simputfile', 'Simput=firstsimulation/simput/file.fits', 'Src_Name=rxj1856', 'RA=0', 'Dec=0', 'srcFlux=2e-11', 'Elow=0.1', 'Eup=10', 'NBins=1000', 'logEgrid=yes', 'Emin=0.2', 'Emax=2', 'XSPECFile=firstsimulation/model/mymodel.xcm']' returned non-zero exit status 127.\n"
     ]
    },
    {
     "name": "stderr",
     "output_type": "stream",
     "text": [
      "/home/suro/SIXTE/installation/bin/simputfile: Simput=firstsimulation/simput/file.fits: No such file or directory\n"
     ]
    }
   ],
   "source": [
    "class SIXTEsim:\n",
    "    def __init__(self, name):\n",
    "        self.name = name\n",
    "        \n",
    "    def generateFolder(self):\n",
    "        if not os.path.exists(self.name):\n",
    "            os.mkdir(self.name)\n",
    "            os.mkdir(os.path.join(self.name, 'model'))\n",
    "            os.mkdir(os.path.join(self.name, 'simput'))\n",
    "            \n",
    "    def create_model(self, modelstring:str, setPars:dict=None, frozen=None, save=None):\n",
    "        Xset.chatter = 0\n",
    "        Xset.abund = 'wilm'\n",
    "        m = Model(modelstring, setPars=setPars)\n",
    "        if (type(save)==str) and (save!=modelstring):\n",
    "            if os.path.exists(f'{save}.xcm'):\n",
    "                print('WARNING: overwriting model')\n",
    "                os.remove(f'{save}.xcm')\n",
    "            Xset.save(fileName=save, info='m')\n",
    "        elif save:\n",
    "            if os.path.exists(f'{modelstring}.xcm'):\n",
    "                print('WARNING: overwriting model')\n",
    "                os.remove(f'{modelstring}.xcm')\n",
    "            Xset.save(fileName=modelstring, info='m')\n",
    "        Xset.chatter = 10 \n",
    "        return m\n",
    "    \n",
    "    def create_SIMPUT(self):\n",
    "        s = SIMPUT(XSPECFile=f\"{self.name}/model/mymodel.xcm\", Simput=f\"{self.name}/simput/file.fits\", Src_Name='rxj1856')\n",
    "        s.generate()\n",
    "        \n",
    "\n",
    "simulation = SIXTEsim('firstsimulation')\n",
    "simulation.generateFolder()\n",
    "simulation.create_model(modelstring=\"TBabs*bbodyrad\", save=f\"{simulation.name}/model/mymodel.xcm\")\n",
    "simulation.create_SIMPUT()\n",
    "\n"
   ]
  }
 ],
 "metadata": {
  "kernelspec": {
   "display_name": "Python 3",
   "language": "python",
   "name": "python3"
  },
  "language_info": {
   "codemirror_mode": {
    "name": "ipython",
    "version": 3
   },
   "file_extension": ".py",
   "mimetype": "text/x-python",
   "name": "python",
   "nbconvert_exporter": "python",
   "pygments_lexer": "ipython3",
   "version": "3.12.3"
  }
 },
 "nbformat": 4,
 "nbformat_minor": 2
}
