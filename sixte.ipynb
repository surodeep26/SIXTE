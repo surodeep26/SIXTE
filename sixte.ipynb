{
 "cells": [
  {
   "cell_type": "code",
   "execution_count": 38,
   "metadata": {},
   "outputs": [],
   "source": [
    "from xspec import *\n",
    "from astropy.io import fits\n",
    "from Simulation import create_model\n",
    "class SIXTE:\n",
    "    def __init__(self,name):\n",
    "        self.name = name\n",
    "        self.SIMPUT = fits.open(f\"{self.name}/SIMPUT_{self.name}\")\n",
    "        # self.model = f\"{self.name}/Model_{}\"\n",
    "        pass"
   ]
  },
  {
   "cell_type": "code",
   "execution_count": 39,
   "metadata": {},
   "outputs": [
    {
     "name": "stdout",
     "output_type": "stream",
     "text": [
      "#PyXspec: Output generated from Xset.save().  DO NOT MODIFY.\n",
      "\n",
      "method leven 10 0.01\n",
      "abund wilm\n",
      "xsect vern\n",
      "cosmo 70 0 0.73\n",
      "xset delta 0.01\n",
      "systematic 0\n",
      "model  TBabs*bbodyrad\n",
      "             12      0.001          0          0     100000      1e+06\n",
      "             24       0.01     0.0001      0.001        100        200\n",
      "             36       0.01          0          0      1e+20      1e+24\n",
      "bayes off\n",
      "\n"
     ]
    }
   ],
   "source": [
    "with open(\"rxj1856/Model_tbabs_bbodyrad.xcm\") as f:\n",
    "    print(f.read())"
   ]
  }
 ],
 "metadata": {
  "kernelspec": {
   "display_name": "Python 3",
   "language": "python",
   "name": "python3"
  },
  "language_info": {
   "codemirror_mode": {
    "name": "ipython",
    "version": 3
   },
   "file_extension": ".py",
   "mimetype": "text/x-python",
   "name": "python",
   "nbconvert_exporter": "python",
   "pygments_lexer": "ipython3",
   "version": "3.12.3"
  }
 },
 "nbformat": 4,
 "nbformat_minor": 2
}
