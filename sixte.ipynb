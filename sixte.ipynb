{
 "cells": [
  {
   "cell_type": "code",
   "execution_count": null,
   "metadata": {},
   "outputs": [],
   "source": [
    "from xspec import *\n",
    "from astropy.io import fits\n",
    "from Simulation import create_model\n",
    "class SIXTE:\n",
    "    def __init__(self,name):\n",
    "        self.name = name\n",
    "        self.SIMPUT = fits.open(f\"{self.name}/SIMPUT_{self.name}\")\n",
    "        # self.model = f\"{self.name}/Model_{}\"\n",
    "        pass"
   ]
  },
  {
   "cell_type": "code",
   "execution_count": 44,
   "metadata": {},
   "outputs": [
    {
     "data": {
      "text/plain": [
       "['rxj/Model_tbabs_bbodyrad.xcm']"
      ]
     },
     "execution_count": 44,
     "metadata": {},
     "output_type": "execute_result"
    }
   ],
   "source": [
    "import glob\n",
    "glob.glob('rxj/Model*')"
   ]
  },
  {
   "cell_type": "code",
   "execution_count": 2,
   "metadata": {},
   "outputs": [
    {
     "ename": "NameError",
     "evalue": "name 'merge_cmd' is not defined",
     "output_type": "error",
     "traceback": [
      "\u001b[0;31m---------------------------------------------------------------------------\u001b[0m",
      "\u001b[0;31mNameError\u001b[0m                                 Traceback (most recent call last)",
      "Cell \u001b[0;32mIn[2], line 3\u001b[0m\n\u001b[1;32m      1\u001b[0m \u001b[38;5;28;01mimport\u001b[39;00m \u001b[38;5;21;01mglob\u001b[39;00m\n\u001b[1;32m      2\u001b[0m \u001b[38;5;28;01mfor\u001b[39;00m file \u001b[38;5;129;01min\u001b[39;00m glob\u001b[38;5;241m.\u001b[39mglob(\u001b[38;5;124m\"\u001b[39m\u001b[38;5;124m*.fits\u001b[39m\u001b[38;5;124m\"\u001b[39m):\n\u001b[0;32m----> 3\u001b[0m     \u001b[43mmerge_cmd\u001b[49m\u001b[38;5;241m.\u001b[39mappend(file)\n\u001b[1;32m      4\u001b[0m merge_cmd\n",
      "\u001b[0;31mNameError\u001b[0m: name 'merge_cmd' is not defined"
     ]
    }
   ],
   "source": [
    "import glob\n",
    "for file in glob.glob(\"*.fits\"):\n",
    "    merge_cmd.append(file)\n",
    "merge_cmd"
   ]
  },
  {
   "cell_type": "code",
   "execution_count": 3,
   "metadata": {},
   "outputs": [
    {
     "data": {
      "text/plain": [
       "'rxj_tel7_evt.fits,rxj_tel4_evt.fits,rxj_tel3_evt.fits,rxj_tel6_evt.fits,rxj_tel1_evt.fits,rxj_tel5_evt.fits,rxj_tel2_evt.fits'"
      ]
     },
     "execution_count": 3,
     "metadata": {},
     "output_type": "execute_result"
    }
   ],
   "source": [
    "','.join(glob.glob(\"*.fits\"))"
   ]
  },
  {
   "cell_type": "code",
   "execution_count": 21,
   "metadata": {},
   "outputs": [
    {
     "data": {
      "text/plain": [
       "'(RA>359.95 || RA<0.05) && Dec>-0.05 && Dec<0.05'"
      ]
     },
     "execution_count": 21,
     "metadata": {},
     "output_type": "execute_result"
    }
   ],
   "source": [
    "from astropy.coordinates import Angle\n",
    "import astropy.units as u\n",
    "\n",
    "def coordinate_range_string(ra, dec, tolerance):\n",
    "    # Convert inputs to Angle objects\n",
    "    ra_angle = Angle(ra * u.deg).wrap_at(360 * u.deg)\n",
    "    dec_angle = Angle(dec * u.deg)\n",
    "\n",
    "    # Define the RA and Dec bounds\n",
    "    ra_min = (ra_angle - tolerance * u.deg).wrap_at(360 * u.deg)\n",
    "    ra_max = (ra_angle + tolerance * u.deg).wrap_at(360 * u.deg)\n",
    "    dec_min = dec_angle - tolerance * u.deg\n",
    "    dec_max = dec_angle + tolerance * u.deg\n",
    "\n",
    "    # Construct the string\n",
    "    return (\n",
    "        f\"(RA>{ra_min.degree:.2f} || RA<{ra_max.degree:.2f}) && \"\n",
    "        f\"Dec>{dec_min.degree:.2f} && Dec<{dec_max.degree:.2f}\"\n",
    "    )\n",
    "\n",
    "query_string = coordinate_range_string(0, 0, 0.05)\n",
    "query_string\n"
   ]
  },
  {
   "cell_type": "code",
   "execution_count": 15,
   "metadata": {},
   "outputs": [
    {
     "data": {
      "text/latex": [
       "$359^\\circ00{}^\\prime00{}^{\\prime\\prime}$"
      ],
      "text/plain": [
       "<Angle 359. deg>"
      ]
     },
     "execution_count": 15,
     "metadata": {},
     "output_type": "execute_result"
    }
   ],
   "source": [
    "a = Angle(0*u.deg)\n",
    "b = a-1*u.deg\n",
    "b.wrap_at(360*u.deg)"
   ]
  },
  {
   "cell_type": "code",
   "execution_count": 39,
   "metadata": {},
   "outputs": [
    {
     "name": "stdout",
     "output_type": "stream",
     "text": [
      "#PyXspec: Output generated from Xset.save().  DO NOT MODIFY.\n",
      "\n",
      "method leven 10 0.01\n",
      "abund wilm\n",
      "xsect vern\n",
      "cosmo 70 0 0.73\n",
      "xset delta 0.01\n",
      "systematic 0\n",
      "model  TBabs*bbodyrad\n",
      "             12      0.001          0          0     100000      1e+06\n",
      "             24       0.01     0.0001      0.001        100        200\n",
      "             36       0.01          0          0      1e+20      1e+24\n",
      "bayes off\n",
      "\n"
     ]
    }
   ],
   "source": [
    "with open(\"rxj1856/Model_tbabs_bbodyrad.xcm\") as f:\n",
    "    print(f.read())"
   ]
  }
 ],
 "metadata": {
  "kernelspec": {
   "display_name": "Python 3",
   "language": "python",
   "name": "python3"
  },
  "language_info": {
   "codemirror_mode": {
    "name": "ipython",
    "version": 3
   },
   "file_extension": ".py",
   "mimetype": "text/x-python",
   "name": "python",
   "nbconvert_exporter": "python",
   "pygments_lexer": "ipython3",
   "version": "3.12.3"
  }
 },
 "nbformat": 4,
 "nbformat_minor": 2
}
