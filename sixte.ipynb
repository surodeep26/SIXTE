{
 "cells": [
  {
   "cell_type": "code",
   "execution_count": 441,
   "metadata": {},
   "outputs": [
    {
     "name": "stdout",
     "output_type": "stream",
     "text": [
      "\n",
      "========================================================================\n",
      "Model TBabs<1>*bbody<2> + bbodyrad<3> Source No.: 1   Active/On\n",
      "Model Model Component  Parameter  Unit     Value\n",
      " par  comp\n",
      "   1    1   TBabs      nH         10^22    1.00000      +/-  0.0          \n",
      "   2    2   bbody      kT         keV      3.00000      +/-  0.0          \n",
      "   3    2   bbody      norm                1.00000      +/-  0.0          \n",
      "   4    3   bbodyrad   kT         keV      3.00000      +/-  0.0          \n",
      "   5    3   bbodyrad   norm                1.00000      +/-  0.0          \n",
      "________________________________________________________________________\n",
      "\n",
      "\n",
      "Fit statistic  : Chi-Squared              9.820652e+07     using 1024 bins, spectrum 1.\n",
      "\n",
      "***Warning: Chi-square may not be valid due to bins with zero variance\n",
      "            in spectrum number: 1\n",
      "                 Chi-Squared              9.820652e+07     using 1024 bins, spectrum 2.\n",
      "\n",
      "***Warning: Chi-square may not be valid due to bins with zero variance\n",
      "            in spectrum number: 2\n",
      "                 Chi-Squared              9.820652e+07     using 1024 bins, spectrum 3.\n",
      "\n",
      "***Warning: Chi-square may not be valid due to bins with zero variance\n",
      "            in spectrum number: 3\n",
      "Total fit statistic                       2.946196e+08     with 3067 d.o.f.\n",
      "\n",
      "Test statistic : Chi-Squared              2.946196e+08     using 3072 bins.\n",
      "\n",
      "***Warning: Chi-square may not be valid due to bins with zero variance\n",
      "            in spectrum number(s): 1 2 3 \n",
      "\n",
      " Null hypothesis probability of 0.000000e+00 with 3067 degrees of freedom\n",
      " Current data and model not fit yet.\n",
      "\n",
      "4 spectra  in use\n",
      " \n",
      "Spectral Data File: rxj1856_1k/spectrum_rxj1856_1k.pha  Spectrum 4\n",
      "Net count rate (cts/s) for Spectrum:4  1.465e+01 +/- 1.210e-01\n",
      " Assigned to Data Group 1 and Plot Group 4\n",
      "  Noticed Channels:  1-1024\n",
      "  Telescope: eROSITA Instrument: TM1  Channel Type: PI\n",
      "  Exposure Time: 1000 sec\n",
      " Using fit statistic: chi\n",
      " Using Response (RMF) File            /home/suro/SIXTE/installation/share/sixte/instruments/srg/erosita/erosita_pirmf_v20210719.rmf for Source 1\n",
      " Using Auxiliary Response (ARF) File  /home/suro/SIXTE/installation/share/sixte/instruments/srg/erosita/tm1_arf_filter_000101v02.fits\n",
      "\n",
      "\n",
      "Fit statistic  : Chi-Squared              9.820652e+07     using 1024 bins, spectrum 1.\n",
      "\n",
      "***Warning: Chi-square may not be valid due to bins with zero variance\n",
      "            in spectrum number: 1\n",
      "                 Chi-Squared              9.820652e+07     using 1024 bins, spectrum 2.\n",
      "\n",
      "***Warning: Chi-square may not be valid due to bins with zero variance\n",
      "            in spectrum number: 2\n",
      "                 Chi-Squared              9.820652e+07     using 1024 bins, spectrum 3.\n",
      "\n",
      "***Warning: Chi-square may not be valid due to bins with zero variance\n",
      "            in spectrum number: 3\n",
      "                 Chi-Squared              9.820652e+07     using 1024 bins, spectrum 4.\n",
      "\n",
      "***Warning: Chi-square may not be valid due to bins with zero variance\n",
      "            in spectrum number: 4\n",
      "Total fit statistic                       3.928261e+08     with 4091 d.o.f.\n",
      "\n",
      "Test statistic : Chi-Squared              3.928261e+08     using 4096 bins.\n",
      "\n",
      "***Warning: Chi-square may not be valid due to bins with zero variance\n",
      "            in spectrum number(s): 1 2 3 4 \n",
      "\n",
      " Null hypothesis probability of 0.000000e+00 with 4091 degrees of freedom\n",
      " Current data and model not fit yet.\n"
     ]
    }
   ],
   "source": [
    "from xspec import *\n",
    "m = Model(\"tbabs*bbody+bbodyrad\")\n",
    "s = Spectrum(\"rxj1856_1k/spectrum_rxj1856_1k.pha\")"
   ]
  },
  {
   "cell_type": "code",
   "execution_count": null,
   "metadata": {},
   "outputs": [],
   "source": []
  },
  {
   "cell_type": "code",
   "execution_count": 444,
   "metadata": {},
   "outputs": [
    {
     "name": "stdout",
     "output_type": "stream",
     "text": [
      "\n",
      "========================================================================\n",
      "Model TBabs<1>*bbody<2> + bbodyrad<3> Source No.: 1   Active/On\n",
      "Model Model Component  Parameter  Unit     Value\n",
      " par  comp\n",
      "   1    1   TBabs      nH         10^22    1.00000      +/-  0.0          \n",
      "   2    2   bbody      kT         keV      3.00000      +/-  0.0          \n",
      "   3    2   bbody      norm                1.00000      +/-  0.0          \n",
      "   4    3   bbodyrad   kT         keV      3.00000      +/-  0.0          \n",
      "   5    3   bbodyrad   norm                1.00000      +/-  0.0          \n",
      "________________________________________________________________________\n",
      "\n",
      "\n",
      "Fit statistic  : Chi-Squared              9.820652e+07     using 1024 bins, spectrum 1.\n",
      "\n",
      "***Warning: Chi-square may not be valid due to bins with zero variance\n",
      "            in spectrum number: 1\n",
      "                 Chi-Squared              9.820652e+07     using 1024 bins, spectrum 2.\n",
      "\n",
      "***Warning: Chi-square may not be valid due to bins with zero variance\n",
      "            in spectrum number: 2\n",
      "                 Chi-Squared              9.820652e+07     using 1024 bins, spectrum 3.\n",
      "\n",
      "***Warning: Chi-square may not be valid due to bins with zero variance\n",
      "            in spectrum number: 3\n",
      "                 Chi-Squared              9.820652e+07     using 1024 bins, spectrum 4.\n",
      "\n",
      "***Warning: Chi-square may not be valid due to bins with zero variance\n",
      "            in spectrum number: 4\n",
      "Total fit statistic                       3.928261e+08     with 4091 d.o.f.\n",
      "\n",
      "Test statistic : Chi-Squared              3.928261e+08     using 4096 bins.\n",
      "\n",
      "***Warning: Chi-square may not be valid due to bins with zero variance\n",
      "            in spectrum number(s): 1 2 3 4 \n",
      "\n",
      " Null hypothesis probability of 0.000000e+00 with 4091 degrees of freedom\n",
      " Current data and model not fit yet.\n"
     ]
    }
   ],
   "source": [
    "from astropy.table import Table\n",
    "from xspec import *\n",
    "m = Model(\"tbabs*bbody+bbodyrad\")\n",
    "# Create a dictionary to store component and parameter information\n",
    "component_dict = {}\n",
    "for component in m.componentNames:\n",
    "    component_obj = getattr(m, component)\n",
    "    component_name = component_obj.name \n",
    "    component_dict[component_name] = {} \n",
    "\n",
    "    for param in component_obj.parameterNames:\n",
    "        param_obj = getattr(component_obj, param)\n",
    "        component_dict[component_name][param_obj.name] = param_obj.values\n",
    "# Create an empty list to store the data for each component\n",
    "data = []\n",
    "# Iterate through the components and their parameters\n",
    "for i, (component, parameters) in enumerate(component_dict.items()):\n",
    "    for param_name, param_values in parameters.items():\n",
    "        row_data = {\n",
    "            'component_index': i + 1,\n",
    "            'component': component,\n",
    "            'parameter': param_name,\n",
    "            'val': param_values[0],\n",
    "            'step': param_values[1],\n",
    "            'Elow': param_values[2],\n",
    "            'Emin': param_values[3],\n",
    "            'Emax': param_values[4],\n",
    "            'Eup': param_values[5]\n",
    "        }\n",
    "        data.append(row_data)\n",
    "# Create the Astropy Table\n",
    "model_params = Table(rows=data, names=('component_index', 'component', 'parameter', 'val', 'step', 'Elow', 'Emin', 'Emax', 'Eup'))\n",
    "# Print the model_params\n",
    "mp = model_params.to_pandas()b"
   ]
  },
  {
   "cell_type": "code",
   "execution_count": 451,
   "metadata": {},
   "outputs": [
    {
     "data": {
      "text/html": [
       "<i>Row index=4</i>\n",
       "<table id=\"table127599294243296\">\n",
       "<thead><tr><th>component_index</th><th>component</th><th>parameter</th><th>val</th><th>step</th><th>Elow</th><th>Emin</th><th>Emax</th><th>Eup</th></tr></thead>\n",
       "<thead><tr><th>int64</th><th>str8</th><th>str4</th><th>float64</th><th>float64</th><th>float64</th><th>float64</th><th>float64</th><th>float64</th></tr></thead>\n",
       "<tr><td>3</td><td>bbodyrad</td><td>norm</td><td>1.0</td><td>0.01</td><td>0.0</td><td>0.0</td><td>1e+20</td><td>1e+24</td></tr>\n",
       "</table>"
      ],
      "text/plain": [
       "<Row index=4>\n",
       "component_index component parameter   val     step    Elow    Emin    Emax    Eup  \n",
       "     int64         str8      str4   float64 float64 float64 float64 float64 float64\n",
       "--------------- --------- --------- ------- ------- ------- ------- ------- -------\n",
       "              3  bbodyrad      norm     1.0    0.01     0.0     0.0   1e+20   1e+24"
      ]
     },
     "execution_count": 451,
     "metadata": {},
     "output_type": "execute_result"
    }
   ],
   "source": [
    "t = Table.from_pandas(mp)"
   ]
  },
  {
   "cell_type": "code",
   "execution_count": 2,
   "metadata": {},
   "outputs": [],
   "source": [
    "Xset.save(fileName='rxj1856_1k/current',)"
   ]
  },
  {
   "cell_type": "code",
   "execution_count": null,
   "metadata": {},
   "outputs": [],
   "source": [
    "Xset.restore()"
   ]
  },
  {
   "cell_type": "code",
   "execution_count": 12,
   "metadata": {},
   "outputs": [
    {
     "name": "stdout",
     "output_type": "stream",
     "text": [
      "\n",
      "========================================================================\n",
      "Model TBabs<1>*bbody<2> Source No.: 1   Active/Off\n",
      "Model Model Component  Parameter  Unit     Value\n",
      " par  comp\n",
      "   1    1   TBabs      nH         10^22    1.00000      +/-  0.0          \n",
      "   2    2   bbody      kT         keV      2.00000      +/-  0.0          \n",
      "   3    2   bbody      norm                3.00000      +/-  0.0          \n",
      "________________________________________________________________________\n",
      "\n"
     ]
    },
    {
     "data": {
      "text/plain": [
       "'TBabs*bbody'"
      ]
     },
     "execution_count": 12,
     "metadata": {},
     "output_type": "execute_result"
    }
   ],
   "source": [
    "from xspec import *\n",
    "# m = XspecModel(exprString=\"tbabs*bbody\", setPars=[1,2,3])\n",
    "m = Model(exprString=\"tbabs*bbody\", setPars=[1,2,3])\n",
    "m.expression"
   ]
  },
  {
   "cell_type": "code",
   "execution_count": 1,
   "metadata": {},
   "outputs": [
    {
     "name": "stdout",
     "output_type": "stream",
     "text": [
      "tbvabs Version 2.3\n",
      "Cosmic absorption with grains and H2, modified from\n",
      "Wilms, Allen, & McCray, 2000, ApJ 542, 914-924\n",
      "Questions: Joern Wilms\n",
      "joern.wilms@sternwarte.uni-erlangen.de\n",
      "joern.wilms@fau.de\n",
      "\n",
      "http://pulsar.sternwarte.uni-erlangen.de/wilms/research/tbabs/\n",
      "\n",
      "PLEASE NOTICE:\n",
      "To get the model described by the above paper\n",
      "you will also have to set the abundances:\n",
      "   abund wilm\n",
      "\n",
      "Note that this routine ignores the current cross section setting\n",
      "as it always HAS to use the Verner cross sections as a baseline.\n",
      "\n",
      "========================================================================\n",
      "Model TBabs<1>*bbody<2> Source No.: 1   Active/Off\n",
      "Model Model Component  Parameter  Unit     Value\n",
      " par  comp\n",
      "   1    1   TBabs      nH         10^22    1.00000      +/-  0.0          \n",
      "   2    2   bbody      kT         keV      2.00000      +/-  0.0          \n",
      "   3    2   bbody      norm                3.00000      +/-  0.0          \n",
      "________________________________________________________________________\n",
      "\n"
     ]
    }
   ],
   "source": [
    "from XspecModel import XspecModel\n",
    "m = XspecModel(exprString=\"tbabs*bbody\", setPars=[1, 2, 3])\n"
   ]
  },
  {
   "cell_type": "code",
   "execution_count": 2,
   "metadata": {},
   "outputs": [
    {
     "data": {
      "text/plain": [
       "'TBabs*bbody'"
      ]
     },
     "execution_count": 2,
     "metadata": {},
     "output_type": "execute_result"
    }
   ],
   "source": [
    "m.expression\n"
   ]
  }
 ],
 "metadata": {
  "kernelspec": {
   "display_name": "Python 3",
   "language": "python",
   "name": "python3"
  },
  "language_info": {
   "codemirror_mode": {
    "name": "ipython",
    "version": 3
   },
   "file_extension": ".py",
   "mimetype": "text/x-python",
   "name": "python",
   "nbconvert_exporter": "python",
   "pygments_lexer": "ipython3",
   "version": "3.12.3"
  }
 },
 "nbformat": 4,
 "nbformat_minor": 2
}
