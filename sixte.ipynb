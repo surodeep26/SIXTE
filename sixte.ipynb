{
 "cells": [
  {
   "cell_type": "code",
   "execution_count": 441,
   "metadata": {},
   "outputs": [
    {
     "name": "stdout",
     "output_type": "stream",
     "text": [
      "\n",
      "========================================================================\n",
      "Model TBabs<1>*bbody<2> + bbodyrad<3> Source No.: 1   Active/On\n",
      "Model Model Component  Parameter  Unit     Value\n",
      " par  comp\n",
      "   1    1   TBabs      nH         10^22    1.00000      +/-  0.0          \n",
      "   2    2   bbody      kT         keV      3.00000      +/-  0.0          \n",
      "   3    2   bbody      norm                1.00000      +/-  0.0          \n",
      "   4    3   bbodyrad   kT         keV      3.00000      +/-  0.0          \n",
      "   5    3   bbodyrad   norm                1.00000      +/-  0.0          \n",
      "________________________________________________________________________\n",
      "\n",
      "\n",
      "Fit statistic  : Chi-Squared              9.820652e+07     using 1024 bins, spectrum 1.\n",
      "\n",
      "***Warning: Chi-square may not be valid due to bins with zero variance\n",
      "            in spectrum number: 1\n",
      "                 Chi-Squared              9.820652e+07     using 1024 bins, spectrum 2.\n",
      "\n",
      "***Warning: Chi-square may not be valid due to bins with zero variance\n",
      "            in spectrum number: 2\n",
      "                 Chi-Squared              9.820652e+07     using 1024 bins, spectrum 3.\n",
      "\n",
      "***Warning: Chi-square may not be valid due to bins with zero variance\n",
      "            in spectrum number: 3\n",
      "Total fit statistic                       2.946196e+08     with 3067 d.o.f.\n",
      "\n",
      "Test statistic : Chi-Squared              2.946196e+08     using 3072 bins.\n",
      "\n",
      "***Warning: Chi-square may not be valid due to bins with zero variance\n",
      "            in spectrum number(s): 1 2 3 \n",
      "\n",
      " Null hypothesis probability of 0.000000e+00 with 3067 degrees of freedom\n",
      " Current data and model not fit yet.\n",
      "\n",
      "4 spectra  in use\n",
      " \n",
      "Spectral Data File: rxj1856_1k/spectrum_rxj1856_1k.pha  Spectrum 4\n",
      "Net count rate (cts/s) for Spectrum:4  1.465e+01 +/- 1.210e-01\n",
      " Assigned to Data Group 1 and Plot Group 4\n",
      "  Noticed Channels:  1-1024\n",
      "  Telescope: eROSITA Instrument: TM1  Channel Type: PI\n",
      "  Exposure Time: 1000 sec\n",
      " Using fit statistic: chi\n",
      " Using Response (RMF) File            /home/suro/SIXTE/installation/share/sixte/instruments/srg/erosita/erosita_pirmf_v20210719.rmf for Source 1\n",
      " Using Auxiliary Response (ARF) File  /home/suro/SIXTE/installation/share/sixte/instruments/srg/erosita/tm1_arf_filter_000101v02.fits\n",
      "\n",
      "\n",
      "Fit statistic  : Chi-Squared              9.820652e+07     using 1024 bins, spectrum 1.\n",
      "\n",
      "***Warning: Chi-square may not be valid due to bins with zero variance\n",
      "            in spectrum number: 1\n",
      "                 Chi-Squared              9.820652e+07     using 1024 bins, spectrum 2.\n",
      "\n",
      "***Warning: Chi-square may not be valid due to bins with zero variance\n",
      "            in spectrum number: 2\n",
      "                 Chi-Squared              9.820652e+07     using 1024 bins, spectrum 3.\n",
      "\n",
      "***Warning: Chi-square may not be valid due to bins with zero variance\n",
      "            in spectrum number: 3\n",
      "                 Chi-Squared              9.820652e+07     using 1024 bins, spectrum 4.\n",
      "\n",
      "***Warning: Chi-square may not be valid due to bins with zero variance\n",
      "            in spectrum number: 4\n",
      "Total fit statistic                       3.928261e+08     with 4091 d.o.f.\n",
      "\n",
      "Test statistic : Chi-Squared              3.928261e+08     using 4096 bins.\n",
      "\n",
      "***Warning: Chi-square may not be valid due to bins with zero variance\n",
      "            in spectrum number(s): 1 2 3 4 \n",
      "\n",
      " Null hypothesis probability of 0.000000e+00 with 4091 degrees of freedom\n",
      " Current data and model not fit yet.\n"
     ]
    }
   ],
   "source": [
    "from xspec import *\n",
    "m = Model(\"tbabs*bbody+bbodyrad\")\n",
    "s = Spectrum(\"rxj1856_1k/spectrum_rxj1856_1k.pha\")"
   ]
  },
  {
   "cell_type": "code",
   "execution_count": 1,
   "metadata": {},
   "outputs": [
    {
     "name": "stdout",
     "output_type": "stream",
     "text": [
      "tbvabs Version 2.3\n",
      "Cosmic absorption with grains and H2, modified from\n",
      "Wilms, Allen, & McCray, 2000, ApJ 542, 914-924\n",
      "Questions: Joern Wilms\n",
      "joern.wilms@sternwarte.uni-erlangen.de\n",
      "joern.wilms@fau.de\n",
      "\n",
      "http://pulsar.sternwarte.uni-erlangen.de/wilms/research/tbabs/\n",
      "\n",
      "PLEASE NOTICE:\n",
      "To get the model described by the above paper\n",
      "you will also have to set the abundances:\n",
      "   abund wilm\n",
      "\n",
      "Note that this routine ignores the current cross section setting\n",
      "as it always HAS to use the Verner cross sections as a baseline.\n"
     ]
    },
    {
     "data": {
      "text/plain": [
       "'TBabs*bbody'"
      ]
     },
     "execution_count": 1,
     "metadata": {},
     "output_type": "execute_result"
    },
    {
     "name": "stdout",
     "output_type": "stream",
     "text": [
      "\n",
      "========================================================================\n",
      "Model TBabs<1>*bbody<2> Source No.: 1   Active/Off\n",
      "Model Model Component  Parameter  Unit     Value\n",
      " par  comp\n",
      "   1    1   TBabs      nH         10^22    1.00000      +/-  0.0          \n",
      "   2    2   bbody      kT         keV      2.00000      +/-  0.0          \n",
      "   3    2   bbody      norm                3.00000      +/-  0.0          \n",
      "________________________________________________________________________\n",
      "\n"
     ]
    }
   ],
   "source": [
    "from xspec import *\n",
    "# m = XspecModel(exprString=\"tbabs*bbody\", setPars=[1,2,3])\n",
    "m = Model(exprString=\"tbabs*bbody\", setPars=[1,2,3])\n",
    "m.expression"
   ]
  },
  {
   "cell_type": "code",
   "execution_count": 27,
   "metadata": {},
   "outputs": [
    {
     "name": "stdout",
     "output_type": "stream",
     "text": [
      "\n",
      "========================================================================\n",
      "Model TBabs<1>*bbody<2> Source No.: 1   Active/Off\n",
      "Model Model Component  Parameter  Unit     Value\n",
      " par  comp\n",
      "   1    1   TBabs      nH         10^22    1.00000      +/-  0.0          \n",
      "   2    2   bbody      kT         keV      2.00000      +/-  0.0          \n",
      "   3    2   bbody      norm                3.00000      +/-  0.0          \n",
      "________________________________________________________________________\n",
      "\n"
     ]
    }
   ],
   "source": [
    "from XspecModel import XspecModel\n",
    "from xspec import *\n",
    "m = XspecModel(exprString=\"tbabs*bbody\", setPars=[1, 2, 3]).Model\n"
   ]
  },
  {
   "cell_type": "code",
   "execution_count": 3,
   "metadata": {},
   "outputs": [
    {
     "name": "stdout",
     "output_type": "stream",
     "text": [
      "\n",
      "Parameters defined:\n",
      "========================================================================\n",
      "Model TBabs<1>*bbody<2> Source No.: 1   Active/Off\n",
      "Model Model Component  Parameter  Unit     Value\n",
      " par  comp\n",
      "   1    1   TBabs      nH         10^22    1.00000      +/-  0.0          \n",
      "   2    2   bbody      kT         keV      2.00000      +/-  0.0          \n",
      "   3    2   bbody      norm                3.00000      +/-  0.0          \n",
      "________________________________________________________________________\n",
      "\n"
     ]
    }
   ],
   "source": [
    "AllModels.show()"
   ]
  },
  {
   "cell_type": "code",
   "execution_count": 2,
   "metadata": {},
   "outputs": [],
   "source": [
    "save_model(m)"
   ]
  },
  {
   "cell_type": "code",
   "execution_count": 4,
   "metadata": {},
   "outputs": [],
   "source": [
    "m.save()"
   ]
  },
  {
   "cell_type": "code",
   "execution_count": 19,
   "metadata": {},
   "outputs": [
    {
     "name": "stdout",
     "output_type": "stream",
     "text": [
      "\n",
      "========================================================================\n",
      "Model bbodyrad<1> Source No.: 1   Active/Off\n",
      "Model Model Component  Parameter  Unit     Value\n",
      " par  comp\n",
      "   1    1   bbodyrad   kT         keV      3.00000      +/-  0.0          \n",
      "   2    1   bbodyrad   norm                1.00000      +/-  0.0          \n",
      "________________________________________________________________________\n",
      "\n"
     ]
    }
   ],
   "source": [
    "from xspec import *\n",
    "from XspecModel import *\n",
    "mymod = XspecModel(\"bbodyrad\").Model"
   ]
  },
  {
   "cell_type": "code",
   "execution_count": 20,
   "metadata": {},
   "outputs": [],
   "source": [
    "save_model(mymod)"
   ]
  },
  {
   "cell_type": "code",
   "execution_count": 30,
   "metadata": {},
   "outputs": [],
   "source": [
    "# AllModels.clear()\n",
    "# load_model(\"Model_bbodyrad.xcm\")\n",
    "Plot.device = \"/xs\"\n",
    "Plot(\"model\")"
   ]
  },
  {
   "cell_type": "code",
   "execution_count": 31,
   "metadata": {},
   "outputs": [
    {
     "name": "stdout",
     "output_type": "stream",
     "text": [
      "\n",
      "Parameters defined:\n",
      "========================================================================\n",
      "Model bbodyrad<1> Source No.: 1   Active/Off\n",
      "Model Model Component  Parameter  Unit     Value\n",
      " par  comp\n",
      "   1    1   bbodyrad   kT         keV      3.00000      +/-  0.0          \n",
      "   2    1   bbodyrad   norm                1.00000      +/-  0.0          \n",
      "________________________________________________________________________\n",
      "\n"
     ]
    }
   ],
   "source": [
    "AllModels.show()"
   ]
  },
  {
   "cell_type": "code",
   "execution_count": 23,
   "metadata": {},
   "outputs": [
    {
     "name": "stdout",
     "output_type": "stream",
     "text": [
      " Solar Abundance Vector set to wilm:  Wilms, J., Allen, A. & McCray, R. ApJ 542 914 (2000) (abundances are set to zero for those elements not included in the paper).\n"
     ]
    },
    {
     "name": "stdout",
     "output_type": "stream",
     "text": [
      "tbvabs Version 2.3\n",
      "Cosmic absorption with grains and H2, modified from\n",
      "Wilms, Allen, & McCray, 2000, ApJ 542, 914-924\n",
      "Questions: Joern Wilms\n",
      "joern.wilms@sternwarte.uni-erlangen.de\n",
      "joern.wilms@fau.de\n",
      "\n",
      "http://pulsar.sternwarte.uni-erlangen.de/wilms/research/tbabs/\n",
      "\n",
      "PLEASE NOTICE:\n",
      "To get the model described by the above paper\n",
      "you will also have to set the abundances:\n",
      "   abund wilm\n",
      "\n",
      "Note that this routine ignores the current cross section setting\n",
      "as it always HAS to use the Verner cross sections as a baseline.\n",
      "\n",
      "========================================================================\n",
      "Model TBabs<1>*bbodyrad<2> Source No.: 1   Active/Off\n",
      "Model Model Component  Parameter  Unit     Value\n",
      " par  comp\n",
      "   1    1   TBabs      nH         10^22    1.00000      +/-  0.0          \n",
      "   2    2   bbodyrad   kT         keV      3.00000      +/-  0.0          \n",
      "   3    2   bbodyrad   norm                1.00000      +/-  0.0          \n",
      "________________________________________________________________________\n",
      "\n"
     ]
    }
   ],
   "source": [
    "Xset.abund = 'wilm'\n",
    "m = Model(\"tbabs*bbodyrad\")"
   ]
  },
  {
   "cell_type": "code",
   "execution_count": 24,
   "metadata": {},
   "outputs": [
    {
     "name": "stdout",
     "output_type": "stream",
     "text": [
      " Solar Abundance Vector set to wilm:  Wilms, J., Allen, A. & McCray, R. ApJ 542 914 (2000) (abundances are set to zero for those elements not included in the paper).\n",
      " Cross Section Table set to vern:  Verner, Ferland, Korista, and Yakovlev 1996\n",
      "Parameter delta values for fits will now be 0.01 * parValue\n",
      "\n",
      " The default systematic error for models is set to 0\n",
      "\n",
      "\n",
      "========================================================================\n",
      "Model bbodyrad<1> Source No.: 1   Active/Off\n",
      "Model Model Component  Parameter  Unit     Value\n",
      " par  comp\n",
      "   1    1   bbodyrad   kT         keV      3.00000      +/-  0.0          \n",
      "   2    1   bbodyrad   norm                1.00000      +/-  0.0          \n",
      "________________________________________________________________________\n",
      "\n"
     ]
    }
   ],
   "source": [
    "m = load_model(\"Model_bbodyrad.xcm\")"
   ]
  }
 ],
 "metadata": {
  "kernelspec": {
   "display_name": "Python 3",
   "language": "python",
   "name": "python3"
  },
  "language_info": {
   "codemirror_mode": {
    "name": "ipython",
    "version": 3
   },
   "file_extension": ".py",
   "mimetype": "text/x-python",
   "name": "python",
   "nbconvert_exporter": "python",
   "pygments_lexer": "ipython3",
   "version": "3.12.3"
  }
 },
 "nbformat": 4,
 "nbformat_minor": 2
}
