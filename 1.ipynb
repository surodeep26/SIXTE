{
 "cells": [
  {
   "cell_type": "code",
   "execution_count": 1,
   "metadata": {},
   "outputs": [],
   "source": [
    "from xspec import *\n",
    "import os\n",
    "AllData.clear()\n",
    "os.chdir('/home/suro/Desktop/github_repos/SIXTE')\n",
    "os.chdir('data')\n",
    "Plot.device = '/svg'\n",
    "Plot.xAxis = 'keV'\n",
    "Xset.chatter = 0\n",
    "data = Spectrum('combined_spec.pha')"
   ]
  },
  {
   "cell_type": "code",
   "execution_count": null,
   "metadata": {},
   "outputs": [],
   "source": [
    "AllModels.clear()\n",
    "Xset.abund = 'wilm'\n",
    "model = Model(\"tbabs*bbodyrad\")\n",
    "model.TBabs.nH = 4e-3\n",
    "model.TBabs.nH.frozen = True\n",
    "model.bbodyrad.kT = 64e-3\n",
    "Xset.chatter = 10\n",
    "Fit.query = 'Y'\n",
    "\n",
    "Fit.perform()\n",
    "model.show()\n"
   ]
  },
  {
   "cell_type": "code",
   "execution_count": null,
   "metadata": {},
   "outputs": [],
   "source": [
    "data.ignore(\"**-0.2 2.0-**\")\n",
    "Plot('lda delchi')"
   ]
  },
  {
   "cell_type": "code",
   "execution_count": 44,
   "metadata": {},
   "outputs": [],
   "source": [
    "Xset.save(fileName='rxj1856-tbabs*bbody', info='m')"
   ]
  },
  {
   "cell_type": "markdown",
   "metadata": {},
   "source": [
    "# SIXTE "
   ]
  },
  {
   "cell_type": "code",
   "execution_count": 64,
   "metadata": {},
   "outputs": [
    {
     "name": "stdout",
     "output_type": "stream",
     "text": [
      "Initialize Heasoft\n",
      "Done\n",
      "/bin/bash: line 1: heasoft: command not found\n"
     ]
    }
   ],
   "source": [
    "!. run_sixte.sh\n",
    "from xspec import *\n",
    "import os\n",
    "import subprocess\n",
    "\n",
    "Xset.chatter = 0\n",
    "Xset.abund = 'wilm'"
   ]
  },
  {
   "cell_type": "code",
   "execution_count": 48,
   "metadata": {},
   "outputs": [
    {
     "name": "stdout",
     "output_type": "stream",
     "text": [
      "WARNING: overwriting model\n",
      "\n",
      "========================================================================\n",
      "Model TBabs<1>*bbodyrad<2> Source No.: 1   Active/Off\n",
      "Model Model Component  Parameter  Unit     Value\n",
      " par  comp\n",
      "   1    1   TBabs      nH         10^22    4.00000E-03  +/-  0.0          \n",
      "   2    2   bbodyrad   kT         keV      6.00000E-02  +/-  0.0          \n",
      "   3    2   bbodyrad   norm                1.00000      +/-  0.0          \n",
      "________________________________________________________________________\n",
      "\n"
     ]
    }
   ],
   "source": [
    "\n",
    "def create_model(modelstring:str, setPars:dict, save=None):\n",
    "    \"\"\"\n",
    "    Example:\n",
    "    ```python\n",
    "    m = create_model(\"TBabs*(bbodyrad)\", \n",
    "                 setPars={1: 4e-3,\n",
    "                          2: 60e-3},\n",
    "                          save=True)\n",
    "    ```                        \n",
    "    Args:\n",
    "        modelstring (str): `xspec` model name \n",
    "        setPars (dict): set the parameters in dict format\n",
    "        save (_type_, optional): Name of the file name of the model. If True, saves the modelstring as file name. Defaults to None.\n",
    "\n",
    "    Returns:\n",
    "        m: Model\n",
    "    \"\"\"\n",
    "    Xset.chatter = 0\n",
    "    Xset.abund = 'wilm'\n",
    "    \n",
    "    m = Model(modelstring, setPars=setPars)\n",
    "    if (type(save)==str) and (save!=modelstring):\n",
    "        if os.path.exists(f'{save}.xcm'):\n",
    "            print('WARNING: overwriting model')\n",
    "            os.remove(f'{save}.xcm')\n",
    "        Xset.save(fileName=save, info='m')\n",
    "    elif save:\n",
    "        if os.path.exists(f'{modelstring}.xcm'):\n",
    "            print('WARNING: overwriting model')\n",
    "            os.remove(f'{modelstring}.xcm')\n",
    "        Xset.save(fileName=modelstring, info='m')\n",
    "    Xset.chatter = 10 \n",
    "    return m\n",
    "\n",
    "m = create_model(\"TBabs*(bbodyrad)\", \n",
    "                 setPars={1: 4e-3,\n",
    "                          2: 60e-3},\n",
    "                          save=True)\n",
    "m.show()"
   ]
  }
 ],
 "metadata": {
  "kernelspec": {
   "display_name": "Python 3",
   "language": "python",
   "name": "python3"
  },
  "language_info": {
   "codemirror_mode": {
    "name": "ipython",
    "version": 3
   },
   "file_extension": ".py",
   "mimetype": "text/x-python",
   "name": "python",
   "nbconvert_exporter": "python",
   "pygments_lexer": "ipython3",
   "version": "3.12.3"
  }
 },
 "nbformat": 4,
 "nbformat_minor": 2
}
