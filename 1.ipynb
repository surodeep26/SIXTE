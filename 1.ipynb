{
 "cells": [
  {
   "cell_type": "code",
   "execution_count": 1,
   "metadata": {},
   "outputs": [],
   "source": [
    "from xspec import *\n",
    "import os\n",
    "AllData.clear()\n",
    "os.chdir('/home/suro/Desktop/github_repos/SIXTE')\n",
    "os.chdir('data')\n",
    "Plot.device = '/svg'\n",
    "Plot.xAxis = 'keV'\n",
    "Xset.chatter = 0\n",
    "data = Spectrum('combined_spec.pha')"
   ]
  },
  {
   "cell_type": "code",
   "execution_count": null,
   "metadata": {},
   "outputs": [],
   "source": [
    "AllModels.clear()\n",
    "Xset.abund = 'wilm'\n",
    "model = Model(\"tbabs*bbodyrad\")\n",
    "model.TBabs.nH = 4e-3\n",
    "model.TBabs.nH.frozen = True\n",
    "model.bbodyrad.kT = 64e-3\n",
    "Xset.chatter = 10\n",
    "Fit.query = 'Y'\n",
    "\n",
    "Fit.perform()\n",
    "model.show()\n"
   ]
  },
  {
   "cell_type": "code",
   "execution_count": null,
   "metadata": {},
   "outputs": [],
   "source": [
    "data.ignore(\"**-0.2 2.0-**\")\n",
    "Plot('lda delchi')"
   ]
  },
  {
   "cell_type": "code",
   "execution_count": 44,
   "metadata": {},
   "outputs": [],
   "source": [
    "Xset.save(fileName='rxj1856-tbabs*bbody', info='m')"
   ]
  },
  {
   "cell_type": "markdown",
   "metadata": {},
   "source": [
    "# SIXTE "
   ]
  },
  {
   "cell_type": "code",
   "execution_count": 10,
   "metadata": {},
   "outputs": [
    {
     "name": "stdout",
     "output_type": "stream",
     "text": [
      " Solar Abundance Vector set to wilm:  Wilms, J., Allen, A. & McCray, R. ApJ 542 914 (2000) (abundances are set to zero for those elements not included in the paper).\n",
      "WARNING: overwriting model\n",
      "\n",
      "========================================================================\n",
      "Model TBabs<1>*bbodyrad<2> Source No.: 1   Active/Off\n",
      "Model Model Component  Parameter  Unit     Value\n",
      " par  comp\n",
      "   1    1   TBabs      nH         10^22    1.00000      +/-  0.0          \n",
      "   2    2   bbodyrad   kT         keV      3.00000      +/-  0.0          \n",
      "   3    2   bbodyrad   norm                1.00000      +/-  0.0          \n",
      "________________________________________________________________________\n",
      "\n"
     ]
    }
   ],
   "source": [
    "from xspec import *\n",
    "import os\n",
    "Xset.abund = 'wilm'\n",
    "def create_model(modelstring, save=None):\n",
    "    Xset.chatter = 0\n",
    "    m = Model(modelstring)\n",
    "    if save:\n",
    "        if os.path.exists(f'{save}.xcm'):\n",
    "            print('WARNING: overwriting model')\n",
    "            os.remove(f'{save}.xcm')\n",
    "        Xset.save(fileName=save, info='m')\n",
    "    Xset.chatter = 10 \n",
    "    return m\n",
    "\n",
    "m = create_model(\"TBabs*bbodyrad\", save='mymodel')\n",
    "m.show()"
   ]
  }
 ],
 "metadata": {
  "kernelspec": {
   "display_name": "Python 3",
   "language": "python",
   "name": "python3"
  },
  "language_info": {
   "codemirror_mode": {
    "name": "ipython",
    "version": 3
   },
   "file_extension": ".py",
   "mimetype": "text/x-python",
   "name": "python",
   "nbconvert_exporter": "python",
   "pygments_lexer": "ipython3",
   "version": "3.12.3"
  }
 },
 "nbformat": 4,
 "nbformat_minor": 2
}
