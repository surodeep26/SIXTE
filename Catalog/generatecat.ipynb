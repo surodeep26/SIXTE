{
 "cells": [
  {
   "cell_type": "code",
   "execution_count": 5,
   "metadata": {},
   "outputs": [
    {
     "data": {
      "text/html": [
       "<div><i>Table length=10</i>\n",
       "<table id=\"table129744685059536\" class=\"table-striped table-bordered table-condensed\">\n",
       "<thead><tr><th>SourceNumber</th><th>RA</th><th>Dec</th><th>srcFlux</th><th>XSPECFile</th></tr></thead>\n",
       "<thead><tr><th></th><th>deg</th><th>deg</th><th></th><th></th></tr></thead>\n",
       "<thead><tr><th>int64</th><th>float32</th><th>float32</th><th>float32</th><th>bytes31</th></tr></thead>\n",
       "<tr><td>1</td><td>350.70837</td><td>85.36693</td><td>2.6567012e-11</td><td>Model_TBabs_bbodyapec.xcm</td></tr>\n",
       "<tr><td>2</td><td>350.1705</td><td>85.91298</td><td>4.9696323e-11</td><td>Model_TBabs*bbodyrad.xcm</td></tr>\n",
       "<tr><td>3</td><td>350.74112</td><td>85.013435</td><td>4.3188276e-11</td><td>Model_TBabs*bbodyrad.xcm</td></tr>\n",
       "<tr><td>4</td><td>350.8411</td><td>85.60151</td><td>8.341038e-11</td><td>Model_TBabs*bbodyrad_000000.xcm</td></tr>\n",
       "<tr><td>5</td><td>350.50986</td><td>85.52519</td><td>6.370836e-11</td><td>Model_TBabs*bbodyrad_000000.xcm</td></tr>\n",
       "<tr><td>6</td><td>350.54575</td><td>85.38207</td><td>8.6339366e-11</td><td>Model_bbodyrad.xcm</td></tr>\n",
       "<tr><td>7</td><td>350.70386</td><td>85.90025</td><td>8.233326e-11</td><td>Model_bbodyrad.xcm</td></tr>\n",
       "<tr><td>8</td><td>350.90024</td><td>85.161224</td><td>5.0514502e-11</td><td>Model_TBabs*bbodyrad_000000.xcm</td></tr>\n",
       "<tr><td>9</td><td>350.77435</td><td>85.74887</td><td>3.928132e-11</td><td>Model_TBabs*bbodyrad_000000.xcm</td></tr>\n",
       "<tr><td>10</td><td>350.90317</td><td>85.270645</td><td>8.2504295e-11</td><td>Model_TBabs_bbodyapec.xcm</td></tr>\n",
       "</table></div>"
      ],
      "text/plain": [
       "<Table length=10>\n",
       "SourceNumber     RA       Dec       srcFlux               XSPECFile           \n",
       "                deg       deg                                                 \n",
       "   int64      float32   float32     float32                bytes31            \n",
       "------------ --------- --------- ------------- -------------------------------\n",
       "           1 350.70837  85.36693 2.6567012e-11       Model_TBabs_bbodyapec.xcm\n",
       "           2  350.1705  85.91298 4.9696323e-11        Model_TBabs*bbodyrad.xcm\n",
       "           3 350.74112 85.013435 4.3188276e-11        Model_TBabs*bbodyrad.xcm\n",
       "           4  350.8411  85.60151  8.341038e-11 Model_TBabs*bbodyrad_000000.xcm\n",
       "           5 350.50986  85.52519  6.370836e-11 Model_TBabs*bbodyrad_000000.xcm\n",
       "           6 350.54575  85.38207 8.6339366e-11              Model_bbodyrad.xcm\n",
       "           7 350.70386  85.90025  8.233326e-11              Model_bbodyrad.xcm\n",
       "           8 350.90024 85.161224 5.0514502e-11 Model_TBabs*bbodyrad_000000.xcm\n",
       "           9 350.77435  85.74887  3.928132e-11 Model_TBabs*bbodyrad_000000.xcm\n",
       "          10 350.90317 85.270645 8.2504295e-11       Model_TBabs_bbodyapec.xcm"
      ]
     },
     "execution_count": 5,
     "metadata": {},
     "output_type": "execute_result"
    }
   ],
   "source": [
    "from astropy.table import Table\n",
    "t = Table.read(\"catalog1.fits\")\n",
    "t"
   ]
  }
 ],
 "metadata": {
  "kernelspec": {
   "display_name": "Python 3",
   "language": "python",
   "name": "python3"
  },
  "language_info": {
   "codemirror_mode": {
    "name": "ipython",
    "version": 3
   },
   "file_extension": ".py",
   "mimetype": "text/x-python",
   "name": "python",
   "nbconvert_exporter": "python",
   "pygments_lexer": "ipython3",
   "version": "3.12.3"
  }
 },
 "nbformat": 4,
 "nbformat_minor": 2
}
