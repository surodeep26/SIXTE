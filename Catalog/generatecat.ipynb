{
 "cells": [
  {
   "cell_type": "code",
   "execution_count": 94,
   "metadata": {},
   "outputs": [
    {
     "data": {
      "text/html": [
       "<div><i>Table length=10</i>\n",
       "<table id=\"table133845077588208\" class=\"table-striped table-bordered table-condensed\">\n",
       "<thead><tr><th>SourceNumber</th><th>RA</th><th>Dec</th><th>srcFlux</th><th>XSPECFile</th></tr></thead>\n",
       "<thead><tr><th></th><th>deg</th><th>deg</th><th></th><th></th></tr></thead>\n",
       "<thead><tr><th>int64</th><th>float32</th><th>float32</th><th>float32</th><th>str31</th></tr></thead>\n",
       "<tr><td>1</td><td>72.68476</td><td>-53.233704</td><td>3.541842e-12</td><td>Model_bbodyrad.xcm</td></tr>\n",
       "<tr><td>2</td><td>180.81776</td><td>-83.85216</td><td>9.4064284e-11</td><td>Model_bbodyrad.xcm</td></tr>\n",
       "<tr><td>3</td><td>196.8002</td><td>-40.689262</td><td>5.7736864e-11</td><td>Model_TBabs*bbodyrad.xcm</td></tr>\n",
       "<tr><td>4</td><td>284.7483</td><td>20.684015</td><td>8.718195e-11</td><td>Model_TBabs*bbodyrad.xcm</td></tr>\n",
       "<tr><td>5</td><td>100.77716</td><td>58.506443</td><td>5.483442e-11</td><td>Model_TBabs*bbodyrad_000000.xcm</td></tr>\n",
       "<tr><td>6</td><td>112.046646</td><td>-84.19184</td><td>2.76468e-11</td><td>Model_TBabs*bbodyrad_000000.xcm</td></tr>\n",
       "<tr><td>7</td><td>315.24734</td><td>6.8247395</td><td>6.758669e-11</td><td>Model_TBabs*bbodyrad_000000.xcm</td></tr>\n",
       "<tr><td>8</td><td>260.5729</td><td>-12.8608</td><td>6.9672976e-11</td><td>Model_TBabs*bbodyrad_000000.xcm</td></tr>\n",
       "<tr><td>9</td><td>326.77417</td><td>75.89272</td><td>1.7543243e-11</td><td>Model_bbodyrad.xcm</td></tr>\n",
       "<tr><td>10</td><td>97.555405</td><td>-54.093586</td><td>9.063432e-11</td><td>Model_TBabs*bbodyrad.xcm</td></tr>\n",
       "</table></div>"
      ],
      "text/plain": [
       "<Table length=10>\n",
       "SourceNumber     RA        Dec        srcFlux               XSPECFile           \n",
       "                deg        deg                                                  \n",
       "   int64      float32    float32      float32                 str31             \n",
       "------------ ---------- ---------- ------------- -------------------------------\n",
       "           1   72.68476 -53.233704  3.541842e-12              Model_bbodyrad.xcm\n",
       "           2  180.81776  -83.85216 9.4064284e-11              Model_bbodyrad.xcm\n",
       "           3   196.8002 -40.689262 5.7736864e-11        Model_TBabs*bbodyrad.xcm\n",
       "           4   284.7483  20.684015  8.718195e-11        Model_TBabs*bbodyrad.xcm\n",
       "           5  100.77716  58.506443  5.483442e-11 Model_TBabs*bbodyrad_000000.xcm\n",
       "           6 112.046646  -84.19184   2.76468e-11 Model_TBabs*bbodyrad_000000.xcm\n",
       "           7  315.24734  6.8247395  6.758669e-11 Model_TBabs*bbodyrad_000000.xcm\n",
       "           8   260.5729   -12.8608 6.9672976e-11 Model_TBabs*bbodyrad_000000.xcm\n",
       "           9  326.77417   75.89272 1.7543243e-11              Model_bbodyrad.xcm\n",
       "          10  97.555405 -54.093586  9.063432e-11        Model_TBabs*bbodyrad.xcm"
      ]
     },
     "execution_count": 94,
     "metadata": {},
     "output_type": "execute_result"
    }
   ],
   "source": [
    "from astropy.table import Table, Column\n",
    "import numpy as np\n",
    "from astropy import units as u\n",
    "import os\n",
    "\n",
    "# Number of sources in the table\n",
    "n_rows = 10\n",
    "\n",
    "# Generate random values for RA and Dec within realistic ranges\n",
    "ra_values = np.random.uniform(0, 360, n_rows).astype(np.float32)  # Right Ascension in degrees\n",
    "dec_values = np.random.uniform(-90, 90, n_rows).astype(np.float32)  # Declination in degrees\n",
    "\n",
    "# Generate random flux values (arbitrary positive values)\n",
    "flux_values = np.random.uniform(1e-15, 1e-10, n_rows).astype(np.float32)\n",
    "\n",
    "# Generate random model names (choosing from a few predefined models)\n",
    "model_names = np.random.choice(os.listdir(\"model_collection\"), n_rows)\n",
    "\n",
    "# Generate source numbers\n",
    "source_numbers = np.arange(1, n_rows + 1)\n",
    "\n",
    "# Create the table\n",
    "table = Table()\n",
    "table.add_column(Column(data=source_numbers, name='SourceNumber'))\n",
    "table.add_column(Column(data=ra_values, name='RA', unit=u.deg, dtype=np.float32))\n",
    "table.add_column(Column(data=dec_values, name='Dec', unit=u.deg, dtype=np.float32))\n",
    "table.add_column(Column(data=flux_values, name='srcFlux', dtype=np.float32))\n",
    "table.add_column(Column(data=model_names, name='XSPECFile'))\n",
    "\n",
    "# Write the table to a FITS file\n",
    "table.write(\"catalog1.fits\", format='fits', overwrite=True)\n",
    "table"
   ]
  },
  {
   "cell_type": "markdown",
   "metadata": {},
   "source": [
    "# Generate SIMPUT file from `catalog1.fits`\n"
   ]
  },
  {
   "cell_type": "code",
   "execution_count": 95,
   "metadata": {},
   "outputs": [
    {
     "name": "stdout",
     "output_type": "stream",
     "text": [
      "simputfile RA=72.68476104736328 Dec=-53.23370361328125 srcFlux=3.5418419499361198e-12 Simput=src_001.fits XSPECFile=Model_bbodyrad.xcm Emin=0.2 Emax=2.0 clobber=yes\n",
      "simputfile RA=180.81776428222656 Dec=-83.85215759277344 srcFlux=9.406428413960555e-11 Simput=src_002.fits XSPECFile=Model_bbodyrad.xcm Emin=0.2 Emax=2.0 clobber=yes\n",
      "simputfile RA=196.80020141601562 Dec=-40.68926239013672 srcFlux=5.7736863900981206e-11 Simput=src_003.fits XSPECFile=Model_TBabs*bbodyrad.xcm Emin=0.2 Emax=2.0 clobber=yes\n",
      "simputfile RA=284.748291015625 Dec=20.68401527404785 srcFlux=8.718194915990907e-11 Simput=src_004.fits XSPECFile=Model_TBabs*bbodyrad.xcm Emin=0.2 Emax=2.0 clobber=yes\n",
      "simputfile RA=100.77716064453125 Dec=58.50644302368164 srcFlux=5.4834421725491467e-11 Simput=src_005.fits XSPECFile=Model_TBabs*bbodyrad_000000.xcm Emin=0.2 Emax=2.0 clobber=yes\n",
      "simputfile RA=112.04664611816406 Dec=-84.19184112548828 srcFlux=2.7646799780067788e-11 Simput=src_006.fits XSPECFile=Model_TBabs*bbodyrad_000000.xcm Emin=0.2 Emax=2.0 clobber=yes\n",
      "simputfile RA=315.2473449707031 Dec=6.824739456176758 srcFlux=6.758669318651656e-11 Simput=src_007.fits XSPECFile=Model_TBabs*bbodyrad_000000.xcm Emin=0.2 Emax=2.0 clobber=yes\n",
      "simputfile RA=260.5729064941406 Dec=-12.860799789428711 srcFlux=6.967297572213482e-11 Simput=src_008.fits XSPECFile=Model_TBabs*bbodyrad_000000.xcm Emin=0.2 Emax=2.0 clobber=yes\n",
      "simputfile RA=326.774169921875 Dec=75.8927230834961 srcFlux=1.7543242900042166e-11 Simput=src_009.fits XSPECFile=Model_bbodyrad.xcm Emin=0.2 Emax=2.0 clobber=yes\n",
      "simputfile RA=97.55540466308594 Dec=-54.09358596801758 srcFlux=9.063431949396517e-11 Simput=src_010.fits XSPECFile=Model_TBabs*bbodyrad.xcm Emin=0.2 Emax=2.0 clobber=yes\n"
     ]
    }
   ],
   "source": [
    "for source in table:\n",
    "    cmd_string = f\"simputfile RA={source['RA']} Dec={source['Dec']} srcFlux={source['srcFlux']} Simput=src_{source['SourceNumber']:03}.fits XSPECFile={source['XSPECFile']} Emin=0.2 Emax=2.0 clobber=yes\"\n",
    "    print(cmd_string)"
   ]
  },
  {
   "cell_type": "code",
   "execution_count": null,
   "metadata": {},
   "outputs": [],
   "source": [
    "subprocess.run(sixte_cmd, check=True)"
   ]
  }
 ],
 "metadata": {
  "kernelspec": {
   "display_name": "Python 3",
   "language": "python",
   "name": "python3"
  },
  "language_info": {
   "codemirror_mode": {
    "name": "ipython",
    "version": 3
   },
   "file_extension": ".py",
   "mimetype": "text/x-python",
   "name": "python",
   "nbconvert_exporter": "python",
   "pygments_lexer": "ipython3",
   "version": "3.12.3"
  }
 },
 "nbformat": 4,
 "nbformat_minor": 2
}
