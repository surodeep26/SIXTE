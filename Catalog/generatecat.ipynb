{
 "cells": [
  {
   "cell_type": "code",
   "execution_count": 1,
   "metadata": {},
   "outputs": [
    {
     "data": {
      "text/html": [
       "<div><i>Table length=10</i>\n",
       "<table id=\"table129744674417568\" class=\"table-striped table-bordered table-condensed\">\n",
       "<thead><tr><th>SourceNumber</th><th>RA</th><th>Dec</th><th>srcFlux</th><th>XSPECFile</th></tr></thead>\n",
       "<thead><tr><th></th><th>deg</th><th>deg</th><th></th><th></th></tr></thead>\n",
       "<thead><tr><th>int64</th><th>float32</th><th>float32</th><th>float32</th><th>bytes31</th></tr></thead>\n",
       "<tr><td>1</td><td>359.50635</td><td>85.77361</td><td>4.0101894e-11</td><td>Model_TBabs*bbodyrad_000000.xcm</td></tr>\n",
       "<tr><td>2</td><td>352.69174</td><td>85.97996</td><td>5.08342e-11</td><td>Model_bbodyrad.xcm</td></tr>\n",
       "<tr><td>3</td><td>351.16183</td><td>86.522865</td><td>4.1400706e-11</td><td>Model_TBabs*bbodyrad_000000.xcm</td></tr>\n",
       "<tr><td>4</td><td>352.29782</td><td>85.32023</td><td>6.7671307e-12</td><td>Model_TBabs*bbodyrad_000000.xcm</td></tr>\n",
       "<tr><td>5</td><td>358.24902</td><td>85.363686</td><td>6.535297e-11</td><td>Model_bbodyrad.xcm</td></tr>\n",
       "<tr><td>6</td><td>351.7785</td><td>88.12248</td><td>7.642078e-11</td><td>Model_TBabs*bbodyrad.xcm</td></tr>\n",
       "<tr><td>7</td><td>355.65387</td><td>85.96766</td><td>1.129913e-11</td><td>Model_TBabs*bbodyrad.xcm</td></tr>\n",
       "<tr><td>8</td><td>350.7395</td><td>86.14955</td><td>6.167724e-11</td><td>Model_bbodyrad.xcm</td></tr>\n",
       "<tr><td>9</td><td>350.11227</td><td>87.2493</td><td>8.882631e-11</td><td>Model_bbodyrad.xcm</td></tr>\n",
       "<tr><td>10</td><td>359.3492</td><td>85.82198</td><td>5.0148247e-11</td><td>Model_TBabs*bbodyrad_000000.xcm</td></tr>\n",
       "</table></div>"
      ],
      "text/plain": [
       "<Table length=10>\n",
       "SourceNumber     RA       Dec       srcFlux               XSPECFile           \n",
       "                deg       deg                                                 \n",
       "   int64      float32   float32     float32                bytes31            \n",
       "------------ --------- --------- ------------- -------------------------------\n",
       "           1 359.50635  85.77361 4.0101894e-11 Model_TBabs*bbodyrad_000000.xcm\n",
       "           2 352.69174  85.97996   5.08342e-11              Model_bbodyrad.xcm\n",
       "           3 351.16183 86.522865 4.1400706e-11 Model_TBabs*bbodyrad_000000.xcm\n",
       "           4 352.29782  85.32023 6.7671307e-12 Model_TBabs*bbodyrad_000000.xcm\n",
       "           5 358.24902 85.363686  6.535297e-11              Model_bbodyrad.xcm\n",
       "           6  351.7785  88.12248  7.642078e-11        Model_TBabs*bbodyrad.xcm\n",
       "           7 355.65387  85.96766  1.129913e-11        Model_TBabs*bbodyrad.xcm\n",
       "           8  350.7395  86.14955  6.167724e-11              Model_bbodyrad.xcm\n",
       "           9 350.11227   87.2493  8.882631e-11              Model_bbodyrad.xcm\n",
       "          10  359.3492  85.82198 5.0148247e-11 Model_TBabs*bbodyrad_000000.xcm"
      ]
     },
     "execution_count": 1,
     "metadata": {},
     "output_type": "execute_result"
    }
   ],
   "source": [
    "from astropy.table import Table\n",
    "t = Table.read(\"catalog1.fits\")\n",
    "t"
   ]
  }
 ],
 "metadata": {
  "kernelspec": {
   "display_name": "Python 3",
   "language": "python",
   "name": "python3"
  },
  "language_info": {
   "codemirror_mode": {
    "name": "ipython",
    "version": 3
   },
   "file_extension": ".py",
   "mimetype": "text/x-python",
   "name": "python",
   "nbconvert_exporter": "python",
   "pygments_lexer": "ipython3",
   "version": "3.12.3"
  }
 },
 "nbformat": 4,
 "nbformat_minor": 2
}
