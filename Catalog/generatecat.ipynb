{
 "cells": [
  {
   "cell_type": "code",
   "execution_count": 56,
   "metadata": {},
   "outputs": [
    {
     "data": {
      "text/html": [
       "<div><i>Table length=5</i>\n",
       "<table id=\"table133845077521088\" class=\"table-striped table-bordered table-condensed\">\n",
       "<thead><tr><th>RA</th><th>Dec</th><th>Flux</th><th>model</th></tr></thead>\n",
       "<thead><tr><th>deg</th><th>deg</th><th></th><th></th></tr></thead>\n",
       "<thead><tr><th>float64</th><th>float64</th><th>float64</th><th>str31</th></tr></thead>\n",
       "<tr><td>85.98617086829715</td><td>-7.1718955437192164</td><td>3.39043264848386e-11</td><td>Model_bbodyrad.xcm</td></tr>\n",
       "<tr><td>223.82567785465176</td><td>10.92893697495981</td><td>3.0339177618409324e-11</td><td>Model_TBabs*bbodyrad.xcm</td></tr>\n",
       "<tr><td>209.50305406208147</td><td>-66.7539760659028</td><td>7.433327429202387e-11</td><td>Model_bbodyrad.xcm</td></tr>\n",
       "<tr><td>189.1887267052519</td><td>-25.330356138636375</td><td>6.54636662934121e-11</td><td>Model_TBabs*bbodyrad.xcm</td></tr>\n",
       "<tr><td>69.15916337115635</td><td>41.00457397315202</td><td>1.7795597398336637e-11</td><td>Model_TBabs*bbodyrad.xcm</td></tr>\n",
       "</table></div>"
      ],
      "text/plain": [
       "<Table length=5>\n",
       "        RA                 Dec         ...          model          \n",
       "       deg                 deg         ...                         \n",
       "     float64             float64       ...          str31          \n",
       "------------------ ------------------- ... ------------------------\n",
       " 85.98617086829715 -7.1718955437192164 ...       Model_bbodyrad.xcm\n",
       "223.82567785465176   10.92893697495981 ... Model_TBabs*bbodyrad.xcm\n",
       "209.50305406208147   -66.7539760659028 ...       Model_bbodyrad.xcm\n",
       " 189.1887267052519 -25.330356138636375 ... Model_TBabs*bbodyrad.xcm\n",
       " 69.15916337115635   41.00457397315202 ... Model_TBabs*bbodyrad.xcm"
      ]
     },
     "execution_count": 56,
     "metadata": {},
     "output_type": "execute_result"
    }
   ],
   "source": [
    "from astropy.table import Table, Column\n",
    "import numpy as np\n",
    "from astropy import units as u\n",
    "import os\n",
    "\n",
    "# Number of sources in the table\n",
    "n_rows = 5\n",
    "\n",
    "# Generate random values for RA and Dec within realistic ranges\n",
    "ra_values = np.random.uniform(0, 360, n_rows)  # Right Ascension in degrees\n",
    "dec_values = np.random.uniform(-90, 90, n_rows)  # Declination in degrees\n",
    "\n",
    "# Generate random flux values (arbitrary positive values)\n",
    "flux_values = np.random.uniform(1e-15, 1e-10, n_rows)\n",
    "\n",
    "# Generate random model names (choosing from a few predefined models)\n",
    "model_names = np.random.choice(os.listdir(\"model_collection\"), n_rows)\n",
    "\n",
    "# Create the table\n",
    "table = Table()\n",
    "table.add_column(Column(data=ra_values, name='RA', unit=u.deg))\n",
    "table.add_column(Column(data=dec_values, name='Dec', unit=u.deg))\n",
    "table.add_column(Column(data=flux_values, name='Flux'))\n",
    "table.add_column(Column(data=model_names, name='model'))\n",
    "\n",
    "# Print the table\n",
    "table.write(\"catalog1.fits\", format='fits', overwrite=1)\n",
    "table\n"
   ]
  },
  {
   "cell_type": "code",
   "execution_count": 55,
   "metadata": {},
   "outputs": [
    {
     "data": {
      "text/plain": [
       "FITS_rec([(153.369837  ,  70.93781142, 1.43512183e-11, 'Model_bbodyrad.xcm'),\n",
       "          ( 29.76780362,  60.0876364 , 3.39717490e-11, 'Model_TBabs*bbodyrad.xcm'),\n",
       "          (303.34836076,  41.94409761, 4.45773382e-11, 'Model_TBabs*bbodyrad_000000.xcm'),\n",
       "          (243.80352286, -33.80211151, 4.23000856e-11, 'Model_TBabs*bbodyrad.xcm'),\n",
       "          (138.47307252, -56.44866141, 6.68522211e-11, 'Model_bbodyrad.xcm')],\n",
       "         dtype=(numpy.record, [('RA', '>f8'), ('Dec', '>f8'), ('Flux', '>f8'), ('model', 'S31')]))"
      ]
     },
     "execution_count": 55,
     "metadata": {},
     "output_type": "execute_result"
    }
   ],
   "source": [
    "from astropy.io import fits\n",
    "hdul = fits.open(\"catalog1.fits\")\n",
    "hdul[1].data"
   ]
  }
 ],
 "metadata": {
  "kernelspec": {
   "display_name": "Python 3",
   "language": "python",
   "name": "python3"
  },
  "language_info": {
   "codemirror_mode": {
    "name": "ipython",
    "version": 3
   },
   "file_extension": ".py",
   "mimetype": "text/x-python",
   "name": "python",
   "nbconvert_exporter": "python",
   "pygments_lexer": "ipython3",
   "version": "3.12.3"
  }
 },
 "nbformat": 4,
 "nbformat_minor": 2
}
