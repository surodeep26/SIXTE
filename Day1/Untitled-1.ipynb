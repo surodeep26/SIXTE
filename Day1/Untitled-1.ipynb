{
 "cells": [
  {
   "cell_type": "code",
   "execution_count": 25,
   "metadata": {},
   "outputs": [
    {
     "data": {
      "text/html": [
       "<div><i>Table length=100</i>\n",
       "<table id=\"table124308098725504\" class=\"table-striped table-bordered table-condensed\">\n",
       "<thead><tr><th>SRC_ID</th><th>RA</th><th>DEC</th><th>IMGROTA</th><th>IMGSCAL</th><th>E_MIN</th><th>E_MAX</th><th>FLUX</th><th>SPECTRUM</th><th>IMAGE</th><th>TIMING</th></tr></thead>\n",
       "<thead><tr><th></th><th>deg</th><th>deg</th><th>deg</th><th>deg</th><th>deg</th><th>deg</th><th></th><th></th><th></th><th></th></tr></thead>\n",
       "<thead><tr><th>int64</th><th>float32</th><th>float32</th><th>float32</th><th>float32</th><th>float32</th><th>float32</th><th>float32</th><th>str29</th><th>str4</th><th>str4</th></tr></thead>\n",
       "<tr><td>1</td><td>350.4204</td><td>85.261696</td><td>0.0</td><td>1.0</td><td>0.0</td><td>0.0</td><td>4.112816e-11</td><td>Model_TBabs(bbody + apec).xcm</td><td>NULL</td><td>NULL</td></tr>\n",
       "<tr><td>2</td><td>350.00082</td><td>85.16158</td><td>0.0</td><td>1.0</td><td>0.0</td><td>0.0</td><td>3.9831315e-11</td><td>Model_bbodyrad.xcm</td><td>NULL</td><td>NULL</td></tr>\n",
       "<tr><td>3</td><td>350.88116</td><td>85.210625</td><td>0.0</td><td>1.0</td><td>0.0</td><td>0.0</td><td>7.10783e-11</td><td>Model_bbodyrad.xcm</td><td>NULL</td><td>NULL</td></tr>\n",
       "<tr><td>4</td><td>350.13766</td><td>85.785255</td><td>0.0</td><td>1.0</td><td>0.0</td><td>0.0</td><td>9.028746e-11</td><td>Model_TBabs*bbodyrad.xcm</td><td>NULL</td><td>NULL</td></tr>\n",
       "<tr><td>5</td><td>350.58386</td><td>85.64018</td><td>0.0</td><td>1.0</td><td>0.0</td><td>0.0</td><td>8.175897e-11</td><td>Model_TBabs(bbody + apec).xcm</td><td>NULL</td><td>NULL</td></tr>\n",
       "<tr><td>6</td><td>350.92303</td><td>85.91041</td><td>0.0</td><td>1.0</td><td>0.0</td><td>0.0</td><td>5.199185e-11</td><td>Model_TBabs(bbody + apec).xcm</td><td>NULL</td><td>NULL</td></tr>\n",
       "<tr><td>7</td><td>350.541</td><td>85.18104</td><td>0.0</td><td>1.0</td><td>0.0</td><td>0.0</td><td>4.1572835e-11</td><td>Model_TBabs(bbody + apec).xcm</td><td>NULL</td><td>NULL</td></tr>\n",
       "<tr><td>8</td><td>350.1784</td><td>85.80725</td><td>0.0</td><td>1.0</td><td>0.0</td><td>0.0</td><td>9.718175e-11</td><td>Model_TBabs(bbody + apec).xcm</td><td>NULL</td><td>NULL</td></tr>\n",
       "<tr><td>9</td><td>350.795</td><td>85.44625</td><td>0.0</td><td>1.0</td><td>0.0</td><td>0.0</td><td>3.838755e-11</td><td>Model_TBabs*bbodyrad.xcm</td><td>NULL</td><td>NULL</td></tr>\n",
       "<tr><td>...</td><td>...</td><td>...</td><td>...</td><td>...</td><td>...</td><td>...</td><td>...</td><td>...</td><td>...</td><td>...</td></tr>\n",
       "<tr><td>92</td><td>350.64462</td><td>85.30188</td><td>0.0</td><td>1.0</td><td>0.0</td><td>0.0</td><td>6.218379e-11</td><td>Model_TBabs*bbodyrad.xcm</td><td>NULL</td><td>NULL</td></tr>\n",
       "<tr><td>93</td><td>350.51028</td><td>85.673546</td><td>0.0</td><td>1.0</td><td>0.0</td><td>0.0</td><td>7.3619014e-11</td><td>Model_bbodyrad.xcm</td><td>NULL</td><td>NULL</td></tr>\n",
       "<tr><td>94</td><td>350.82086</td><td>85.63083</td><td>0.0</td><td>1.0</td><td>0.0</td><td>0.0</td><td>4.9044522e-11</td><td>Model_TBabs(bbody + apec).xcm</td><td>NULL</td><td>NULL</td></tr>\n",
       "<tr><td>95</td><td>350.791</td><td>85.88728</td><td>0.0</td><td>1.0</td><td>0.0</td><td>0.0</td><td>3.2969575e-11</td><td>Model_TBabs*bbodyrad.xcm</td><td>NULL</td><td>NULL</td></tr>\n",
       "<tr><td>96</td><td>350.35077</td><td>85.581924</td><td>0.0</td><td>1.0</td><td>0.0</td><td>0.0</td><td>2.9880546e-11</td><td>Model_bbodyrad.xcm</td><td>NULL</td><td>NULL</td></tr>\n",
       "<tr><td>97</td><td>350.02643</td><td>85.17351</td><td>0.0</td><td>1.0</td><td>0.0</td><td>0.0</td><td>1.2031391e-11</td><td>Model_bbodyrad.xcm</td><td>NULL</td><td>NULL</td></tr>\n",
       "<tr><td>98</td><td>350.84363</td><td>85.94385</td><td>0.0</td><td>1.0</td><td>0.0</td><td>0.0</td><td>2.6815114e-11</td><td>Model_TBabs(bbody + apec).xcm</td><td>NULL</td><td>NULL</td></tr>\n",
       "<tr><td>99</td><td>350.53168</td><td>85.9019</td><td>0.0</td><td>1.0</td><td>0.0</td><td>0.0</td><td>6.6089e-11</td><td>Model_TBabs*bbodyrad.xcm</td><td>NULL</td><td>NULL</td></tr>\n",
       "<tr><td>100</td><td>350.13223</td><td>85.17811</td><td>0.0</td><td>1.0</td><td>0.0</td><td>0.0</td><td>2.571775e-11</td><td>Model_bbodyrad.xcm</td><td>NULL</td><td>NULL</td></tr>\n",
       "</table></div>"
      ],
      "text/plain": [
       "<Table length=100>\n",
       "SRC_ID     RA       DEC    ...            SPECTRUM           IMAGE TIMING\n",
       "          deg       deg    ...                                           \n",
       "int64   float32   float32  ...             str29              str4  str4 \n",
       "------ --------- --------- ... ----------------------------- ----- ------\n",
       "     1  350.4204 85.261696 ... Model_TBabs(bbody + apec).xcm  NULL   NULL\n",
       "     2 350.00082  85.16158 ...            Model_bbodyrad.xcm  NULL   NULL\n",
       "     3 350.88116 85.210625 ...            Model_bbodyrad.xcm  NULL   NULL\n",
       "     4 350.13766 85.785255 ...      Model_TBabs*bbodyrad.xcm  NULL   NULL\n",
       "     5 350.58386  85.64018 ... Model_TBabs(bbody + apec).xcm  NULL   NULL\n",
       "     6 350.92303  85.91041 ... Model_TBabs(bbody + apec).xcm  NULL   NULL\n",
       "     7   350.541  85.18104 ... Model_TBabs(bbody + apec).xcm  NULL   NULL\n",
       "     8  350.1784  85.80725 ... Model_TBabs(bbody + apec).xcm  NULL   NULL\n",
       "     9   350.795  85.44625 ...      Model_TBabs*bbodyrad.xcm  NULL   NULL\n",
       "   ...       ...       ... ...                           ...   ...    ...\n",
       "    92 350.64462  85.30188 ...      Model_TBabs*bbodyrad.xcm  NULL   NULL\n",
       "    93 350.51028 85.673546 ...            Model_bbodyrad.xcm  NULL   NULL\n",
       "    94 350.82086  85.63083 ... Model_TBabs(bbody + apec).xcm  NULL   NULL\n",
       "    95   350.791  85.88728 ...      Model_TBabs*bbodyrad.xcm  NULL   NULL\n",
       "    96 350.35077 85.581924 ...            Model_bbodyrad.xcm  NULL   NULL\n",
       "    97 350.02643  85.17351 ...            Model_bbodyrad.xcm  NULL   NULL\n",
       "    98 350.84363  85.94385 ... Model_TBabs(bbody + apec).xcm  NULL   NULL\n",
       "    99 350.53168   85.9019 ...      Model_TBabs*bbodyrad.xcm  NULL   NULL\n",
       "   100 350.13223  85.17811 ...            Model_bbodyrad.xcm  NULL   NULL"
      ]
     },
     "execution_count": 25,
     "metadata": {},
     "output_type": "execute_result"
    }
   ],
   "source": [
    "from astropy.io import fits\n",
    "from astropy.table import Table, Column\n",
    "import numpy as np\n",
    "from astropy import units as u\n",
    "import os\n",
    "\n",
    "# Load the header from the existing FITS file\n",
    "# existing_fits = \"template_SIMPUT.fits\"  # Change this to your FITS filename\n",
    "# with fits.open(existing_fits) as hdul:\n",
    "#     old_header = hdul[1].header  # Assuming the table is in the first extension\n",
    "\n",
    "# # Number of sources in the table\n",
    "n_rows = 100\n",
    "\n",
    "# Generate random values for RA and Dec within realistic ranges\n",
    "ra_values = np.random.uniform(340, 351, n_rows).astype(np.float32)  # Right Ascension in degrees\n",
    "dec_values = np.random.uniform(85, 88, n_rows).astype(np.float32)  # Declination in degrees\n",
    "\n",
    "# Generate random flux values\n",
    "flux_values = np.random.uniform(1e-11, 1e-10, n_rows).astype(np.float32)\n",
    "\n",
    "# Choose models from the model_collection\n",
    "model_names = np.random.choice(os.listdir(\"model_collection\"), n_rows)\n",
    "\n",
    "# Generate source numbers\n",
    "source_numbers = np.arange(1, n_rows + 1)\n",
    "\n",
    "# Create the new table\n",
    "table = Table()\n",
    "table.add_column(Column(data=source_numbers, name='SRC_ID'))\n",
    "table.add_column(Column(data=ra_values, name='RA', unit=u.deg, dtype=np.float32))\n",
    "table.add_column(Column(data=dec_values, name='DEC', unit=u.deg, dtype=np.float32))\n",
    "table.add_column(Column(data=np.zeros(n_rows), name='IMGROTA', unit=u.deg, dtype=np.float32))\n",
    "table.add_column(Column(data=np.ones(n_rows), name='IMGSCAL', unit=u.deg, dtype=np.float32))\n",
    "table.add_column(Column(data=np.zeros(n_rows), name='E_MIN', unit=u.deg, dtype=np.float32))\n",
    "table.add_column(Column(data=np.zeros(n_rows), name='E_MAX', unit=u.deg, dtype=np.float32))\n",
    "table.add_column(Column(data=flux_values, name='FLUX', dtype=np.float32))\n",
    "table.add_column(Column(data=model_names, name='SPECTRUM'))\n",
    "table.add_column(Column(data=['NULL']*n_rows, name='IMAGE'))\n",
    "table.add_column(Column(data=['NULL']*n_rows, name='TIMING'))\n",
    "\n",
    "# Write the new table with the copied header\n",
    "table.write(\"catalog1.fits\", format='fits', overwrite=True)\n",
    "\n",
    "# # Attach the old header to the new FITS file\n",
    "# with fits.open(\"catalog1.fits\", mode=\"update\") as hdul:\n",
    "#     hdul[1].header = old_header  # Copy the header\n",
    "#     hdul.flush()  # Save changes\n",
    "\n",
    "# print(\"New FITS table created with copied header.\")\n",
    "table\n"
   ]
  },
  {
   "cell_type": "code",
   "execution_count": 26,
   "metadata": {},
   "outputs": [],
   "source": [
    "from xspec import *\n",
    "Xset.chatter = 0\n",
    "pretable = Table.read('catalog1.fits')\n",
    "fits\n",
    "lis = []\n",
    "src = []\n",
    "energies = []\n",
    "values = []\n",
    "for src_id,modelstring in enumerate(pretable['SPECTRUM'][:]):\n",
    "    modelstring = modelstring.replace('Model_','').replace('.xcm','')\n",
    "    # print(modelstring,src_id)\n",
    "    m = Model(modelstring)\n",
    "    src.append(str(src_id))\n",
    "    energies.append(m.energies(0)[1:]) #take the center of the bins\n",
    "    values.append(m.values(0))\n",
    "    # m,energies,values\n",
    "    # lis.append([m,energies,values])\n",
    "c1 = fits.Column(name='NAME', array=src, format='100A')\n",
    "c2 = fits.Column(name='ENERGY', array=energies, format=f'{len(energies[0])}D')\n",
    "c3 = fits.Column(name='FLUXDENSITY',array=values, format=f'{len(values[0])}D')\n",
    "\n",
    "t = fits.BinTableHDU.from_columns([c1,c2,c3])\n",
    "t.data\n",
    "t.writeto('spec_info.fits')\n",
    "\n",
    "from astropy.io import fits\n",
    "with fits.open('catalog1.fits') as first_hdul:\n",
    "    first_hdul.append(t)\n",
    "    first_hdul.writeto('final.fits')\n",
    "\n",
    "    "
   ]
  },
  {
   "cell_type": "code",
   "execution_count": 27,
   "metadata": {},
   "outputs": [
    {
     "ename": "TypeError",
     "evalue": "'_io.TextIOWrapper' object is not subscriptable",
     "output_type": "error",
     "traceback": [
      "\u001b[0;31m---------------------------------------------------------------------------\u001b[0m",
      "\u001b[0;31mTypeError\u001b[0m                                 Traceback (most recent call last)",
      "Cell \u001b[0;32mIn[27], line 2\u001b[0m\n\u001b[1;32m      1\u001b[0m \u001b[38;5;28;01mwith\u001b[39;00m \u001b[38;5;28mopen\u001b[39m(\u001b[38;5;124m'\u001b[39m\u001b[38;5;124msrc_merged.fits\u001b[39m\u001b[38;5;124m'\u001b[39m) \u001b[38;5;28;01mas\u001b[39;00m hdul:\n\u001b[0;32m----> 2\u001b[0m     header1 \u001b[38;5;241m=\u001b[39m \u001b[43mhdul\u001b[49m\u001b[43m[\u001b[49m\u001b[38;5;241;43m0\u001b[39;49m\u001b[43m]\u001b[49m\u001b[38;5;241m.\u001b[39mheader\n\u001b[1;32m      3\u001b[0m     \u001b[38;5;28mprint\u001b[39m(header1)\n",
      "\u001b[0;31mTypeError\u001b[0m: '_io.TextIOWrapper' object is not subscriptable"
     ]
    }
   ],
   "source": [
    "with open('src_merged.fits') as hdul:\n",
    "    header1 = hdul[0].header\n",
    "    print(header1)"
   ]
  },
  {
   "cell_type": "code",
   "execution_count": 109,
   "metadata": {},
   "outputs": [
    {
     "data": {
      "text/html": [
       "<div><i>Table length=100</i>\n",
       "<table id=\"table139769547508960\" class=\"table-striped table-bordered table-condensed\">\n",
       "<thead><tr><th>SRC_ID</th><th>RA</th><th>DEC</th><th>IMGROTA</th><th>IMGSCAL</th><th>E_MIN</th><th>E_MAX</th><th>FLUX</th><th>SPECTRUM</th><th>IMAGE</th><th>TIMING</th></tr></thead>\n",
       "<thead><tr><th></th><th>deg</th><th>deg</th><th>deg</th><th>deg</th><th>deg</th><th>deg</th><th></th><th></th><th></th><th></th></tr></thead>\n",
       "<thead><tr><th>int64</th><th>float32</th><th>float32</th><th>float32</th><th>float32</th><th>float32</th><th>float32</th><th>float32</th><th>str16</th><th>bytes4</th><th>bytes4</th></tr></thead>\n",
       "<tr><td>1</td><td>350.70505</td><td>85.11276</td><td>0.0</td><td>1.0</td><td>0.0</td><td>0.0</td><td>6.2054785e-11</td><td>genericspec.fits</td><td>NULL</td><td>NULL</td></tr>\n",
       "<tr><td>2</td><td>350.73517</td><td>85.546326</td><td>0.0</td><td>1.0</td><td>0.0</td><td>0.0</td><td>2.1426597e-11</td><td>genericspec.fits</td><td>NULL</td><td>NULL</td></tr>\n",
       "<tr><td>3</td><td>350.61664</td><td>85.147736</td><td>0.0</td><td>1.0</td><td>0.0</td><td>0.0</td><td>8.9426154e-11</td><td>genericspec.fits</td><td>NULL</td><td>NULL</td></tr>\n",
       "<tr><td>4</td><td>350.9864</td><td>85.8118</td><td>0.0</td><td>1.0</td><td>0.0</td><td>0.0</td><td>2.6592015e-11</td><td>genericspec.fits</td><td>NULL</td><td>NULL</td></tr>\n",
       "<tr><td>5</td><td>350.98767</td><td>85.58806</td><td>0.0</td><td>1.0</td><td>0.0</td><td>0.0</td><td>9.608931e-11</td><td>genericspec.fits</td><td>NULL</td><td>NULL</td></tr>\n",
       "<tr><td>6</td><td>350.91403</td><td>85.13785</td><td>0.0</td><td>1.0</td><td>0.0</td><td>0.0</td><td>3.532557e-11</td><td>genericspec.fits</td><td>NULL</td><td>NULL</td></tr>\n",
       "<tr><td>7</td><td>350.4342</td><td>85.322464</td><td>0.0</td><td>1.0</td><td>0.0</td><td>0.0</td><td>9.653062e-11</td><td>genericspec.fits</td><td>NULL</td><td>NULL</td></tr>\n",
       "<tr><td>8</td><td>350.416</td><td>85.50576</td><td>0.0</td><td>1.0</td><td>0.0</td><td>0.0</td><td>6.5612286e-11</td><td>genericspec.fits</td><td>NULL</td><td>NULL</td></tr>\n",
       "<tr><td>9</td><td>350.13226</td><td>85.953514</td><td>0.0</td><td>1.0</td><td>0.0</td><td>0.0</td><td>6.323641e-11</td><td>genericspec.fits</td><td>NULL</td><td>NULL</td></tr>\n",
       "<tr><td>...</td><td>...</td><td>...</td><td>...</td><td>...</td><td>...</td><td>...</td><td>...</td><td>...</td><td>...</td><td>...</td></tr>\n",
       "<tr><td>92</td><td>350.8936</td><td>85.523056</td><td>0.0</td><td>1.0</td><td>0.0</td><td>0.0</td><td>5.6455098e-11</td><td>genericspec.fits</td><td>NULL</td><td>NULL</td></tr>\n",
       "<tr><td>93</td><td>350.77777</td><td>85.06583</td><td>0.0</td><td>1.0</td><td>0.0</td><td>0.0</td><td>1.8919515e-11</td><td>genericspec.fits</td><td>NULL</td><td>NULL</td></tr>\n",
       "<tr><td>94</td><td>350.92047</td><td>85.74495</td><td>0.0</td><td>1.0</td><td>0.0</td><td>0.0</td><td>9.424771e-11</td><td>genericspec.fits</td><td>NULL</td><td>NULL</td></tr>\n",
       "<tr><td>95</td><td>350.98065</td><td>85.7033</td><td>0.0</td><td>1.0</td><td>0.0</td><td>0.0</td><td>7.186704e-11</td><td>genericspec.fits</td><td>NULL</td><td>NULL</td></tr>\n",
       "<tr><td>96</td><td>350.84723</td><td>85.46757</td><td>0.0</td><td>1.0</td><td>0.0</td><td>0.0</td><td>6.392366e-11</td><td>genericspec.fits</td><td>NULL</td><td>NULL</td></tr>\n",
       "<tr><td>97</td><td>350.75818</td><td>85.251205</td><td>0.0</td><td>1.0</td><td>0.0</td><td>0.0</td><td>9.280485e-11</td><td>genericspec.fits</td><td>NULL</td><td>NULL</td></tr>\n",
       "<tr><td>98</td><td>350.34027</td><td>85.126236</td><td>0.0</td><td>1.0</td><td>0.0</td><td>0.0</td><td>6.8540965e-11</td><td>genericspec.fits</td><td>NULL</td><td>NULL</td></tr>\n",
       "<tr><td>99</td><td>350.75336</td><td>85.06143</td><td>0.0</td><td>1.0</td><td>0.0</td><td>0.0</td><td>2.1302304e-11</td><td>genericspec.fits</td><td>NULL</td><td>NULL</td></tr>\n",
       "<tr><td>100</td><td>350.17618</td><td>85.93724</td><td>0.0</td><td>1.0</td><td>0.0</td><td>0.0</td><td>9.483439e-11</td><td>genericspec.fits</td><td>NULL</td><td>NULL</td></tr>\n",
       "</table></div>"
      ],
      "text/plain": [
       "<Table length=100>\n",
       "SRC_ID     RA       DEC    IMGROTA ...     SPECTRUM     IMAGE  TIMING\n",
       "          deg       deg      deg   ...                               \n",
       "int64   float32   float32  float32 ...      str16       bytes4 bytes4\n",
       "------ --------- --------- ------- ... ---------------- ------ ------\n",
       "     1 350.70505  85.11276     0.0 ... genericspec.fits   NULL   NULL\n",
       "     2 350.73517 85.546326     0.0 ... genericspec.fits   NULL   NULL\n",
       "     3 350.61664 85.147736     0.0 ... genericspec.fits   NULL   NULL\n",
       "     4  350.9864   85.8118     0.0 ... genericspec.fits   NULL   NULL\n",
       "     5 350.98767  85.58806     0.0 ... genericspec.fits   NULL   NULL\n",
       "     6 350.91403  85.13785     0.0 ... genericspec.fits   NULL   NULL\n",
       "     7  350.4342 85.322464     0.0 ... genericspec.fits   NULL   NULL\n",
       "     8   350.416  85.50576     0.0 ... genericspec.fits   NULL   NULL\n",
       "     9 350.13226 85.953514     0.0 ... genericspec.fits   NULL   NULL\n",
       "   ...       ...       ...     ... ...              ...    ...    ...\n",
       "    92  350.8936 85.523056     0.0 ... genericspec.fits   NULL   NULL\n",
       "    93 350.77777  85.06583     0.0 ... genericspec.fits   NULL   NULL\n",
       "    94 350.92047  85.74495     0.0 ... genericspec.fits   NULL   NULL\n",
       "    95 350.98065   85.7033     0.0 ... genericspec.fits   NULL   NULL\n",
       "    96 350.84723  85.46757     0.0 ... genericspec.fits   NULL   NULL\n",
       "    97 350.75818 85.251205     0.0 ... genericspec.fits   NULL   NULL\n",
       "    98 350.34027 85.126236     0.0 ... genericspec.fits   NULL   NULL\n",
       "    99 350.75336  85.06143     0.0 ... genericspec.fits   NULL   NULL\n",
       "   100 350.17618  85.93724     0.0 ... genericspec.fits   NULL   NULL"
      ]
     },
     "execution_count": 109,
     "metadata": {},
     "output_type": "execute_result"
    }
   ],
   "source": [
    "from astropy.table import Table\n",
    "t = Table.read('final.fits', hdu=1)\n",
    "specnames = []\n",
    "for id in t['SRC_ID']:\n",
    "    specnames.append(f\"[SPECTRUM,1][NAME=='{id}']\")\n",
    "\n",
    "with fits.open('final.fits') as finalhdul:\n",
    "    finalhdul\n",
    "\n",
    "# t['SPECTRUM'] = ['genericspec.fits']*len(t)\n",
    "\n"
   ]
  },
  {
   "cell_type": "code",
   "execution_count": null,
   "metadata": {},
   "outputs": [],
   "source": []
  },
  {
   "cell_type": "code",
   "execution_count": 112,
   "metadata": {},
   "outputs": [],
   "source": [
    "from xspec import *\n",
    "Xset.abund = 'wilm'\n",
    "m = Model('tbabs*bbodyrad')\n",
    "m.energies(0)\n",
    "m.values(0)\n",
    "Table([m.values(0),m.energies(0)[1:]], names=['values', 'energies']).write('genericspec.fits')"
   ]
  },
  {
   "cell_type": "code",
   "execution_count": 25,
   "metadata": {},
   "outputs": [
    {
     "data": {
      "image/png": "[encoded data removed]",
      "text/plain": [
       "<Figure size 640x480 with 1 Axes>"
      ]
     },
     "metadata": {},
     "output_type": "display_data"
    }
   ],
   "source": [
    "from matplotlib import pyplot  as plt\n",
    "\n",
    "plt.plot(m.energies(0)[1:],m.values(0))\n",
    "plt.xscale('log')\n",
    "plt.yscale('log')"
   ]
  },
  {
   "cell_type": "code",
   "execution_count": 16,
   "metadata": {},
   "outputs": [
    {
     "ename": "SyntaxError",
     "evalue": "invalid syntax (681706079.py, line 1)",
     "output_type": "error",
     "traceback": [
      "\u001b[0;36m  Cell \u001b[0;32mIn[16], line 1\u001b[0;36m\u001b[0m\n\u001b[0;31m    from\u001b[0m\n\u001b[0m         ^\u001b[0m\n\u001b[0;31mSyntaxError\u001b[0m\u001b[0;31m:\u001b[0m invalid syntax\n"
     ]
    }
   ],
   "source": [
    "from "
   ]
  }
 ],
 "metadata": {
  "kernelspec": {
   "display_name": "Python 3",
   "language": "python",
   "name": "python3"
  },
  "language_info": {
   "codemirror_mode": {
    "name": "ipython",
    "version": 3
   },
   "file_extension": ".py",
   "mimetype": "text/x-python",
   "name": "python",
   "nbconvert_exporter": "python",
   "pygments_lexer": "ipython3",
   "version": "3.12.3"
  }
 },
 "nbformat": 4,
 "nbformat_minor": 2
}
